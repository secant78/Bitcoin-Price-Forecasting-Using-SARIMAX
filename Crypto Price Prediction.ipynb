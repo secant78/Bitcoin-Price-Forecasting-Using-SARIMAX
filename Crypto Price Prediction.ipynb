{
 "cells": [
  {
   "cell_type": "code",
   "execution_count": null,
   "metadata": {},
   "outputs": [],
   "source": [
    "import os\n",
    "import math\n",
    "import string\n",
    "import matplotlib.pyplot as plt\n",
    "import pandas as pd\n",
    "import numpy as np\n",
    "import random"
   ]
  },
  {
   "cell_type": "code",
   "execution_count": null,
   "metadata": {},
   "outputs": [],
   "source": [
    "fileTrain = r'C:/Users/secan/Documents/CryptoPriceKaggleCompetition/train.csv'"
   ]
  },
  {
   "cell_type": "code",
   "execution_count": 3,
   "metadata": {
    "scrolled": true
   },
   "outputs": [],
   "source": [
    "dataTrain = pd.read_csv(fileTrain) #opens the file in read mode"
   ]
  },
  {
   "cell_type": "code",
   "execution_count": 4,
   "metadata": {},
   "outputs": [
    {
     "data": {
      "text/html": [
       "<div>\n",
       "<style scoped>\n",
       "    .dataframe tbody tr th:only-of-type {\n",
       "        vertical-align: middle;\n",
       "    }\n",
       "\n",
       "    .dataframe tbody tr th {\n",
       "        vertical-align: top;\n",
       "    }\n",
       "\n",
       "    .dataframe thead th {\n",
       "        text-align: right;\n",
       "    }\n",
       "</style>\n",
       "<table border=\"1\" class=\"dataframe\">\n",
       "  <thead>\n",
       "    <tr style=\"text-align: right;\">\n",
       "      <th></th>\n",
       "      <th>timestamp</th>\n",
       "      <th>Asset_ID</th>\n",
       "      <th>Count</th>\n",
       "      <th>Open</th>\n",
       "      <th>High</th>\n",
       "      <th>Low</th>\n",
       "      <th>Close</th>\n",
       "      <th>Volume</th>\n",
       "      <th>VWAP</th>\n",
       "      <th>Target</th>\n",
       "    </tr>\n",
       "  </thead>\n",
       "  <tbody>\n",
       "    <tr>\n",
       "      <th>0</th>\n",
       "      <td>1514764860</td>\n",
       "      <td>2</td>\n",
       "      <td>40.0</td>\n",
       "      <td>2376.5800</td>\n",
       "      <td>2399.5000</td>\n",
       "      <td>2357.1400</td>\n",
       "      <td>2374.5900</td>\n",
       "      <td>19.233005</td>\n",
       "      <td>2373.116392</td>\n",
       "      <td>-0.004218</td>\n",
       "    </tr>\n",
       "    <tr>\n",
       "      <th>1</th>\n",
       "      <td>1514764860</td>\n",
       "      <td>0</td>\n",
       "      <td>5.0</td>\n",
       "      <td>8.5300</td>\n",
       "      <td>8.5300</td>\n",
       "      <td>8.5300</td>\n",
       "      <td>8.5300</td>\n",
       "      <td>78.380000</td>\n",
       "      <td>8.530000</td>\n",
       "      <td>-0.014399</td>\n",
       "    </tr>\n",
       "    <tr>\n",
       "      <th>2</th>\n",
       "      <td>1514764860</td>\n",
       "      <td>1</td>\n",
       "      <td>229.0</td>\n",
       "      <td>13835.1940</td>\n",
       "      <td>14013.8000</td>\n",
       "      <td>13666.1100</td>\n",
       "      <td>13850.1760</td>\n",
       "      <td>31.550062</td>\n",
       "      <td>13827.062093</td>\n",
       "      <td>-0.014643</td>\n",
       "    </tr>\n",
       "    <tr>\n",
       "      <th>3</th>\n",
       "      <td>1514764860</td>\n",
       "      <td>5</td>\n",
       "      <td>32.0</td>\n",
       "      <td>7.6596</td>\n",
       "      <td>7.6596</td>\n",
       "      <td>7.6567</td>\n",
       "      <td>7.6576</td>\n",
       "      <td>6626.713370</td>\n",
       "      <td>7.657713</td>\n",
       "      <td>-0.013922</td>\n",
       "    </tr>\n",
       "    <tr>\n",
       "      <th>4</th>\n",
       "      <td>1514764860</td>\n",
       "      <td>7</td>\n",
       "      <td>5.0</td>\n",
       "      <td>25.9200</td>\n",
       "      <td>25.9200</td>\n",
       "      <td>25.8740</td>\n",
       "      <td>25.8770</td>\n",
       "      <td>121.087310</td>\n",
       "      <td>25.891363</td>\n",
       "      <td>-0.008264</td>\n",
       "    </tr>\n",
       "  </tbody>\n",
       "</table>\n",
       "</div>"
      ],
      "text/plain": [
       "    timestamp  Asset_ID  Count        Open        High         Low  \\\n",
       "0  1514764860         2   40.0   2376.5800   2399.5000   2357.1400   \n",
       "1  1514764860         0    5.0      8.5300      8.5300      8.5300   \n",
       "2  1514764860         1  229.0  13835.1940  14013.8000  13666.1100   \n",
       "3  1514764860         5   32.0      7.6596      7.6596      7.6567   \n",
       "4  1514764860         7    5.0     25.9200     25.9200     25.8740   \n",
       "\n",
       "        Close       Volume          VWAP    Target  \n",
       "0   2374.5900    19.233005   2373.116392 -0.004218  \n",
       "1      8.5300    78.380000      8.530000 -0.014399  \n",
       "2  13850.1760    31.550062  13827.062093 -0.014643  \n",
       "3      7.6576  6626.713370      7.657713 -0.013922  \n",
       "4     25.8770   121.087310     25.891363 -0.008264  "
      ]
     },
     "execution_count": 4,
     "metadata": {},
     "output_type": "execute_result"
    }
   ],
   "source": [
    "dataTrain.head()"
   ]
  },
  {
   "cell_type": "code",
   "execution_count": 5,
   "metadata": {},
   "outputs": [],
   "source": [
    "dataTrain['timestamp'] = dataTrain['timestamp'].astype('datetime64[s]')"
   ]
  },
  {
   "cell_type": "code",
   "execution_count": 6,
   "metadata": {},
   "outputs": [
    {
     "data": {
      "text/html": [
       "<div>\n",
       "<style scoped>\n",
       "    .dataframe tbody tr th:only-of-type {\n",
       "        vertical-align: middle;\n",
       "    }\n",
       "\n",
       "    .dataframe tbody tr th {\n",
       "        vertical-align: top;\n",
       "    }\n",
       "\n",
       "    .dataframe thead th {\n",
       "        text-align: right;\n",
       "    }\n",
       "</style>\n",
       "<table border=\"1\" class=\"dataframe\">\n",
       "  <thead>\n",
       "    <tr style=\"text-align: right;\">\n",
       "      <th></th>\n",
       "      <th>timestamp</th>\n",
       "      <th>Asset_ID</th>\n",
       "      <th>Count</th>\n",
       "      <th>Open</th>\n",
       "      <th>High</th>\n",
       "      <th>Low</th>\n",
       "      <th>Close</th>\n",
       "      <th>Volume</th>\n",
       "      <th>VWAP</th>\n",
       "      <th>Target</th>\n",
       "    </tr>\n",
       "  </thead>\n",
       "  <tbody>\n",
       "    <tr>\n",
       "      <th>1</th>\n",
       "      <td>2018-01-01 00:01:00</td>\n",
       "      <td>0</td>\n",
       "      <td>5.0</td>\n",
       "      <td>8.530000</td>\n",
       "      <td>8.530000</td>\n",
       "      <td>8.530000</td>\n",
       "      <td>8.530000</td>\n",
       "      <td>7.838000e+01</td>\n",
       "      <td>8.530000</td>\n",
       "      <td>-0.014399</td>\n",
       "    </tr>\n",
       "    <tr>\n",
       "      <th>2</th>\n",
       "      <td>2018-01-01 00:01:00</td>\n",
       "      <td>1</td>\n",
       "      <td>229.0</td>\n",
       "      <td>13835.194000</td>\n",
       "      <td>14013.800000</td>\n",
       "      <td>13666.110000</td>\n",
       "      <td>13850.176000</td>\n",
       "      <td>3.155006e+01</td>\n",
       "      <td>13827.062093</td>\n",
       "      <td>-0.014643</td>\n",
       "    </tr>\n",
       "    <tr>\n",
       "      <th>0</th>\n",
       "      <td>2018-01-01 00:01:00</td>\n",
       "      <td>2</td>\n",
       "      <td>40.0</td>\n",
       "      <td>2376.580000</td>\n",
       "      <td>2399.500000</td>\n",
       "      <td>2357.140000</td>\n",
       "      <td>2374.590000</td>\n",
       "      <td>1.923301e+01</td>\n",
       "      <td>2373.116392</td>\n",
       "      <td>-0.004218</td>\n",
       "    </tr>\n",
       "    <tr>\n",
       "      <th>3</th>\n",
       "      <td>2018-01-01 00:01:00</td>\n",
       "      <td>5</td>\n",
       "      <td>32.0</td>\n",
       "      <td>7.659600</td>\n",
       "      <td>7.659600</td>\n",
       "      <td>7.656700</td>\n",
       "      <td>7.657600</td>\n",
       "      <td>6.626713e+03</td>\n",
       "      <td>7.657713</td>\n",
       "      <td>-0.013922</td>\n",
       "    </tr>\n",
       "    <tr>\n",
       "      <th>5</th>\n",
       "      <td>2018-01-01 00:01:00</td>\n",
       "      <td>6</td>\n",
       "      <td>173.0</td>\n",
       "      <td>738.302500</td>\n",
       "      <td>746.000000</td>\n",
       "      <td>732.510000</td>\n",
       "      <td>738.507500</td>\n",
       "      <td>3.359879e+02</td>\n",
       "      <td>738.839291</td>\n",
       "      <td>-0.004809</td>\n",
       "    </tr>\n",
       "    <tr>\n",
       "      <th>...</th>\n",
       "      <td>...</td>\n",
       "      <td>...</td>\n",
       "      <td>...</td>\n",
       "      <td>...</td>\n",
       "      <td>...</td>\n",
       "      <td>...</td>\n",
       "      <td>...</td>\n",
       "      <td>...</td>\n",
       "      <td>...</td>\n",
       "      <td>...</td>\n",
       "    </tr>\n",
       "    <tr>\n",
       "      <th>24236801</th>\n",
       "      <td>2021-09-21 00:00:00</td>\n",
       "      <td>9</td>\n",
       "      <td>775.0</td>\n",
       "      <td>157.181571</td>\n",
       "      <td>157.250000</td>\n",
       "      <td>156.700000</td>\n",
       "      <td>156.943857</td>\n",
       "      <td>4.663725e+03</td>\n",
       "      <td>156.994319</td>\n",
       "      <td>NaN</td>\n",
       "    </tr>\n",
       "    <tr>\n",
       "      <th>24236802</th>\n",
       "      <td>2021-09-21 00:00:00</td>\n",
       "      <td>10</td>\n",
       "      <td>34.0</td>\n",
       "      <td>2437.065067</td>\n",
       "      <td>2438.000000</td>\n",
       "      <td>2430.226900</td>\n",
       "      <td>2432.907467</td>\n",
       "      <td>3.975460e+00</td>\n",
       "      <td>2434.818747</td>\n",
       "      <td>NaN</td>\n",
       "    </tr>\n",
       "    <tr>\n",
       "      <th>24236805</th>\n",
       "      <td>2021-09-21 00:00:00</td>\n",
       "      <td>11</td>\n",
       "      <td>48.0</td>\n",
       "      <td>232.695000</td>\n",
       "      <td>232.800000</td>\n",
       "      <td>232.240000</td>\n",
       "      <td>232.275000</td>\n",
       "      <td>1.035123e+02</td>\n",
       "      <td>232.569697</td>\n",
       "      <td>NaN</td>\n",
       "    </tr>\n",
       "    <tr>\n",
       "      <th>24236804</th>\n",
       "      <td>2021-09-21 00:00:00</td>\n",
       "      <td>12</td>\n",
       "      <td>177.0</td>\n",
       "      <td>0.282168</td>\n",
       "      <td>0.282438</td>\n",
       "      <td>0.281842</td>\n",
       "      <td>0.282051</td>\n",
       "      <td>1.828508e+05</td>\n",
       "      <td>0.282134</td>\n",
       "      <td>NaN</td>\n",
       "    </tr>\n",
       "    <tr>\n",
       "      <th>24236803</th>\n",
       "      <td>2021-09-21 00:00:00</td>\n",
       "      <td>13</td>\n",
       "      <td>380.0</td>\n",
       "      <td>0.091390</td>\n",
       "      <td>0.091527</td>\n",
       "      <td>0.091260</td>\n",
       "      <td>0.091349</td>\n",
       "      <td>2.193732e+06</td>\n",
       "      <td>0.091388</td>\n",
       "      <td>NaN</td>\n",
       "    </tr>\n",
       "  </tbody>\n",
       "</table>\n",
       "<p>24236806 rows × 10 columns</p>\n",
       "</div>"
      ],
      "text/plain": [
       "                   timestamp  Asset_ID  Count          Open          High  \\\n",
       "1        2018-01-01 00:01:00         0    5.0      8.530000      8.530000   \n",
       "2        2018-01-01 00:01:00         1  229.0  13835.194000  14013.800000   \n",
       "0        2018-01-01 00:01:00         2   40.0   2376.580000   2399.500000   \n",
       "3        2018-01-01 00:01:00         5   32.0      7.659600      7.659600   \n",
       "5        2018-01-01 00:01:00         6  173.0    738.302500    746.000000   \n",
       "...                      ...       ...    ...           ...           ...   \n",
       "24236801 2021-09-21 00:00:00         9  775.0    157.181571    157.250000   \n",
       "24236802 2021-09-21 00:00:00        10   34.0   2437.065067   2438.000000   \n",
       "24236805 2021-09-21 00:00:00        11   48.0    232.695000    232.800000   \n",
       "24236804 2021-09-21 00:00:00        12  177.0      0.282168      0.282438   \n",
       "24236803 2021-09-21 00:00:00        13  380.0      0.091390      0.091527   \n",
       "\n",
       "                   Low         Close        Volume          VWAP    Target  \n",
       "1             8.530000      8.530000  7.838000e+01      8.530000 -0.014399  \n",
       "2         13666.110000  13850.176000  3.155006e+01  13827.062093 -0.014643  \n",
       "0          2357.140000   2374.590000  1.923301e+01   2373.116392 -0.004218  \n",
       "3             7.656700      7.657600  6.626713e+03      7.657713 -0.013922  \n",
       "5           732.510000    738.507500  3.359879e+02    738.839291 -0.004809  \n",
       "...                ...           ...           ...           ...       ...  \n",
       "24236801    156.700000    156.943857  4.663725e+03    156.994319       NaN  \n",
       "24236802   2430.226900   2432.907467  3.975460e+00   2434.818747       NaN  \n",
       "24236805    232.240000    232.275000  1.035123e+02    232.569697       NaN  \n",
       "24236804      0.281842      0.282051  1.828508e+05      0.282134       NaN  \n",
       "24236803      0.091260      0.091349  2.193732e+06      0.091388       NaN  \n",
       "\n",
       "[24236806 rows x 10 columns]"
      ]
     },
     "execution_count": 6,
     "metadata": {},
     "output_type": "execute_result"
    }
   ],
   "source": [
    "dataTrain.sort_values(by=['timestamp', 'Asset_ID'])"
   ]
  },
  {
   "cell_type": "code",
   "execution_count": 7,
   "metadata": {},
   "outputs": [
    {
     "data": {
      "text/plain": [
       "timestamp         0\n",
       "Asset_ID          0\n",
       "Count             0\n",
       "Open              0\n",
       "High              0\n",
       "Low               0\n",
       "Close             0\n",
       "Volume            0\n",
       "VWAP              9\n",
       "Target       750338\n",
       "dtype: int64"
      ]
     },
     "execution_count": 7,
     "metadata": {},
     "output_type": "execute_result"
    }
   ],
   "source": [
    "dataTrain.isna().sum()"
   ]
  },
  {
   "cell_type": "code",
   "execution_count": 8,
   "metadata": {},
   "outputs": [],
   "source": [
    "\n",
    "Bitcoin = dataTrain[dataTrain['Asset_ID'] == 1]\n"
   ]
  },
  {
   "cell_type": "code",
   "execution_count": 9,
   "metadata": {},
   "outputs": [
    {
     "data": {
      "text/plain": [
       "(             timestamp  Asset_ID  Count       Open     High       Low  \\\n",
       " 2  2018-01-01 00:01:00         1  229.0  13835.194  14013.8  13666.11   \n",
       " 10 2018-01-01 00:02:00         1  235.0  13835.036  14052.3  13680.00   \n",
       " 18 2018-01-01 00:03:00         1  528.0  13823.900  14000.4  13601.00   \n",
       " 26 2018-01-01 00:04:00         1  435.0  13802.512  13999.0  13576.28   \n",
       " 34 2018-01-01 00:05:00         1  742.0  13766.000  13955.9  13554.44   \n",
       " \n",
       "         Close      Volume          VWAP    Target  \n",
       " 2   13850.176   31.550062  13827.062093 -0.014643  \n",
       " 10  13828.102   31.046432  13840.362591 -0.015037  \n",
       " 18  13801.314   55.061820  13806.068014 -0.010309  \n",
       " 26  13768.040   38.780529  13783.598101 -0.008999  \n",
       " 34  13724.914  108.501637  13735.586842 -0.008079  ,\n",
       "                    timestamp  Asset_ID   Count          Open          High  \\\n",
       " 24236739 2021-09-20 23:56:00         1  1940.0  42983.780000  43001.850849   \n",
       " 24236753 2021-09-20 23:57:00         1  2026.0  42904.197143  42932.000000   \n",
       " 24236767 2021-09-20 23:58:00         1  1986.0  42859.385714  42887.500000   \n",
       " 24236781 2021-09-20 23:59:00         1  4047.0  42839.012802  43042.160000   \n",
       " 24236795 2021-09-21 00:00:00         1  2698.0  43009.961250  43048.510000   \n",
       " \n",
       "                Low         Close      Volume          VWAP  Target  \n",
       " 24236739  42878.26  42899.012857   56.850913  42935.489499     NaN  \n",
       " 24236753  42840.16  42860.005714   80.993326  42879.576084     NaN  \n",
       " 24236767  42797.20  42827.020000   65.677734  42844.090693     NaN  \n",
       " 24236781  42818.10  43017.277143  138.335477  42935.761938     NaN  \n",
       " 24236795  42961.64  43002.505000  128.206820  43011.414052     NaN  )"
      ]
     },
     "execution_count": 9,
     "metadata": {},
     "output_type": "execute_result"
    }
   ],
   "source": [
    "Bitcoin.head(), Bitcoin.tail()"
   ]
  },
  {
   "cell_type": "code",
   "execution_count": 10,
   "metadata": {},
   "outputs": [
    {
     "data": {
      "text/plain": [
       "timestamp      0\n",
       "Asset_ID       0\n",
       "Count          0\n",
       "Open           0\n",
       "High           0\n",
       "Low            0\n",
       "Close          0\n",
       "Volume         0\n",
       "VWAP           0\n",
       "Target       304\n",
       "dtype: int64"
      ]
     },
     "execution_count": 10,
     "metadata": {},
     "output_type": "execute_result"
    }
   ],
   "source": [
    "Bitcoin.isna().sum()"
   ]
  },
  {
   "cell_type": "code",
   "execution_count": 11,
   "metadata": {},
   "outputs": [
    {
     "name": "stderr",
     "output_type": "stream",
     "text": [
      "<ipython-input-11-d95078418508>:1: SettingWithCopyWarning: \n",
      "A value is trying to be set on a copy of a slice from a DataFrame.\n",
      "Try using .loc[row_indexer,col_indexer] = value instead\n",
      "\n",
      "See the caveats in the documentation: https://pandas.pydata.org/pandas-docs/stable/user_guide/indexing.html#returning-a-view-versus-a-copy\n",
      "  Bitcoin['Target'] = Bitcoin['Target'].fillna(method=\"pad\", axis=None)\n"
     ]
    }
   ],
   "source": [
    "Bitcoin['Target'] = Bitcoin['Target'].fillna(method=\"pad\", axis=None)"
   ]
  },
  {
   "cell_type": "code",
   "execution_count": 12,
   "metadata": {},
   "outputs": [
    {
     "data": {
      "text/plain": [
       "timestamp    0\n",
       "Asset_ID     0\n",
       "Count        0\n",
       "Open         0\n",
       "High         0\n",
       "Low          0\n",
       "Close        0\n",
       "Volume       0\n",
       "VWAP         0\n",
       "Target       0\n",
       "dtype: int64"
      ]
     },
     "execution_count": 12,
     "metadata": {},
     "output_type": "execute_result"
    }
   ],
   "source": [
    "Bitcoin.isna().sum()"
   ]
  },
  {
   "cell_type": "code",
   "execution_count": 13,
   "metadata": {},
   "outputs": [
    {
     "data": {
      "text/html": [
       "<div>\n",
       "<style scoped>\n",
       "    .dataframe tbody tr th:only-of-type {\n",
       "        vertical-align: middle;\n",
       "    }\n",
       "\n",
       "    .dataframe tbody tr th {\n",
       "        vertical-align: top;\n",
       "    }\n",
       "\n",
       "    .dataframe thead th {\n",
       "        text-align: right;\n",
       "    }\n",
       "</style>\n",
       "<table border=\"1\" class=\"dataframe\">\n",
       "  <thead>\n",
       "    <tr style=\"text-align: right;\">\n",
       "      <th></th>\n",
       "      <th>timestamp</th>\n",
       "      <th>Asset_ID</th>\n",
       "      <th>Count</th>\n",
       "      <th>Open</th>\n",
       "      <th>High</th>\n",
       "      <th>Low</th>\n",
       "      <th>Close</th>\n",
       "      <th>Volume</th>\n",
       "      <th>VWAP</th>\n",
       "      <th>Target</th>\n",
       "    </tr>\n",
       "  </thead>\n",
       "  <tbody>\n",
       "    <tr>\n",
       "      <th>2</th>\n",
       "      <td>2018-01-01 00:01:00</td>\n",
       "      <td>1</td>\n",
       "      <td>229.0</td>\n",
       "      <td>13835.194000</td>\n",
       "      <td>14013.800000</td>\n",
       "      <td>13666.11</td>\n",
       "      <td>13850.176000</td>\n",
       "      <td>31.550062</td>\n",
       "      <td>13827.062093</td>\n",
       "      <td>-0.014643</td>\n",
       "    </tr>\n",
       "    <tr>\n",
       "      <th>10</th>\n",
       "      <td>2018-01-01 00:02:00</td>\n",
       "      <td>1</td>\n",
       "      <td>235.0</td>\n",
       "      <td>13835.036000</td>\n",
       "      <td>14052.300000</td>\n",
       "      <td>13680.00</td>\n",
       "      <td>13828.102000</td>\n",
       "      <td>31.046432</td>\n",
       "      <td>13840.362591</td>\n",
       "      <td>-0.015037</td>\n",
       "    </tr>\n",
       "    <tr>\n",
       "      <th>18</th>\n",
       "      <td>2018-01-01 00:03:00</td>\n",
       "      <td>1</td>\n",
       "      <td>528.0</td>\n",
       "      <td>13823.900000</td>\n",
       "      <td>14000.400000</td>\n",
       "      <td>13601.00</td>\n",
       "      <td>13801.314000</td>\n",
       "      <td>55.061820</td>\n",
       "      <td>13806.068014</td>\n",
       "      <td>-0.010309</td>\n",
       "    </tr>\n",
       "    <tr>\n",
       "      <th>26</th>\n",
       "      <td>2018-01-01 00:04:00</td>\n",
       "      <td>1</td>\n",
       "      <td>435.0</td>\n",
       "      <td>13802.512000</td>\n",
       "      <td>13999.000000</td>\n",
       "      <td>13576.28</td>\n",
       "      <td>13768.040000</td>\n",
       "      <td>38.780529</td>\n",
       "      <td>13783.598101</td>\n",
       "      <td>-0.008999</td>\n",
       "    </tr>\n",
       "    <tr>\n",
       "      <th>34</th>\n",
       "      <td>2018-01-01 00:05:00</td>\n",
       "      <td>1</td>\n",
       "      <td>742.0</td>\n",
       "      <td>13766.000000</td>\n",
       "      <td>13955.900000</td>\n",
       "      <td>13554.44</td>\n",
       "      <td>13724.914000</td>\n",
       "      <td>108.501637</td>\n",
       "      <td>13735.586842</td>\n",
       "      <td>-0.008079</td>\n",
       "    </tr>\n",
       "    <tr>\n",
       "      <th>...</th>\n",
       "      <td>...</td>\n",
       "      <td>...</td>\n",
       "      <td>...</td>\n",
       "      <td>...</td>\n",
       "      <td>...</td>\n",
       "      <td>...</td>\n",
       "      <td>...</td>\n",
       "      <td>...</td>\n",
       "      <td>...</td>\n",
       "      <td>...</td>\n",
       "    </tr>\n",
       "    <tr>\n",
       "      <th>24236739</th>\n",
       "      <td>2021-09-20 23:56:00</td>\n",
       "      <td>1</td>\n",
       "      <td>1940.0</td>\n",
       "      <td>42983.780000</td>\n",
       "      <td>43001.850849</td>\n",
       "      <td>42878.26</td>\n",
       "      <td>42899.012857</td>\n",
       "      <td>56.850913</td>\n",
       "      <td>42935.489499</td>\n",
       "      <td>0.002726</td>\n",
       "    </tr>\n",
       "    <tr>\n",
       "      <th>24236753</th>\n",
       "      <td>2021-09-20 23:57:00</td>\n",
       "      <td>1</td>\n",
       "      <td>2026.0</td>\n",
       "      <td>42904.197143</td>\n",
       "      <td>42932.000000</td>\n",
       "      <td>42840.16</td>\n",
       "      <td>42860.005714</td>\n",
       "      <td>80.993326</td>\n",
       "      <td>42879.576084</td>\n",
       "      <td>0.002726</td>\n",
       "    </tr>\n",
       "    <tr>\n",
       "      <th>24236767</th>\n",
       "      <td>2021-09-20 23:58:00</td>\n",
       "      <td>1</td>\n",
       "      <td>1986.0</td>\n",
       "      <td>42859.385714</td>\n",
       "      <td>42887.500000</td>\n",
       "      <td>42797.20</td>\n",
       "      <td>42827.020000</td>\n",
       "      <td>65.677734</td>\n",
       "      <td>42844.090693</td>\n",
       "      <td>0.002726</td>\n",
       "    </tr>\n",
       "    <tr>\n",
       "      <th>24236781</th>\n",
       "      <td>2021-09-20 23:59:00</td>\n",
       "      <td>1</td>\n",
       "      <td>4047.0</td>\n",
       "      <td>42839.012802</td>\n",
       "      <td>43042.160000</td>\n",
       "      <td>42818.10</td>\n",
       "      <td>43017.277143</td>\n",
       "      <td>138.335477</td>\n",
       "      <td>42935.761938</td>\n",
       "      <td>0.002726</td>\n",
       "    </tr>\n",
       "    <tr>\n",
       "      <th>24236795</th>\n",
       "      <td>2021-09-21 00:00:00</td>\n",
       "      <td>1</td>\n",
       "      <td>2698.0</td>\n",
       "      <td>43009.961250</td>\n",
       "      <td>43048.510000</td>\n",
       "      <td>42961.64</td>\n",
       "      <td>43002.505000</td>\n",
       "      <td>128.206820</td>\n",
       "      <td>43011.414052</td>\n",
       "      <td>0.002726</td>\n",
       "    </tr>\n",
       "  </tbody>\n",
       "</table>\n",
       "<p>1956282 rows × 10 columns</p>\n",
       "</div>"
      ],
      "text/plain": [
       "                   timestamp  Asset_ID   Count          Open          High  \\\n",
       "2        2018-01-01 00:01:00         1   229.0  13835.194000  14013.800000   \n",
       "10       2018-01-01 00:02:00         1   235.0  13835.036000  14052.300000   \n",
       "18       2018-01-01 00:03:00         1   528.0  13823.900000  14000.400000   \n",
       "26       2018-01-01 00:04:00         1   435.0  13802.512000  13999.000000   \n",
       "34       2018-01-01 00:05:00         1   742.0  13766.000000  13955.900000   \n",
       "...                      ...       ...     ...           ...           ...   \n",
       "24236739 2021-09-20 23:56:00         1  1940.0  42983.780000  43001.850849   \n",
       "24236753 2021-09-20 23:57:00         1  2026.0  42904.197143  42932.000000   \n",
       "24236767 2021-09-20 23:58:00         1  1986.0  42859.385714  42887.500000   \n",
       "24236781 2021-09-20 23:59:00         1  4047.0  42839.012802  43042.160000   \n",
       "24236795 2021-09-21 00:00:00         1  2698.0  43009.961250  43048.510000   \n",
       "\n",
       "               Low         Close      Volume          VWAP    Target  \n",
       "2         13666.11  13850.176000   31.550062  13827.062093 -0.014643  \n",
       "10        13680.00  13828.102000   31.046432  13840.362591 -0.015037  \n",
       "18        13601.00  13801.314000   55.061820  13806.068014 -0.010309  \n",
       "26        13576.28  13768.040000   38.780529  13783.598101 -0.008999  \n",
       "34        13554.44  13724.914000  108.501637  13735.586842 -0.008079  \n",
       "...            ...           ...         ...           ...       ...  \n",
       "24236739  42878.26  42899.012857   56.850913  42935.489499  0.002726  \n",
       "24236753  42840.16  42860.005714   80.993326  42879.576084  0.002726  \n",
       "24236767  42797.20  42827.020000   65.677734  42844.090693  0.002726  \n",
       "24236781  42818.10  43017.277143  138.335477  42935.761938  0.002726  \n",
       "24236795  42961.64  43002.505000  128.206820  43011.414052  0.002726  \n",
       "\n",
       "[1956282 rows x 10 columns]"
      ]
     },
     "execution_count": 13,
     "metadata": {},
     "output_type": "execute_result"
    }
   ],
   "source": [
    "Bitcoin"
   ]
  },
  {
   "cell_type": "code",
   "execution_count": 14,
   "metadata": {},
   "outputs": [
    {
     "data": {
      "text/plain": [
       "[<matplotlib.lines.Line2D at 0x2004266c700>]"
      ]
     },
     "execution_count": 14,
     "metadata": {},
     "output_type": "execute_result"
    },
    {
     "data": {
      "image/png": "[encoded data removed]",
      "text/plain": [
       "<Figure size 432x288 with 1 Axes>"
      ]
     },
     "metadata": {
      "needs_background": "light"
     },
     "output_type": "display_data"
    }
   ],
   "source": [
    "plt.plot(Bitcoin.timestamp, Bitcoin.Close, linewidth=3)"
   ]
  },
  {
   "cell_type": "code",
   "execution_count": 15,
   "metadata": {},
   "outputs": [
    {
     "data": {
      "text/html": [
       "<div>\n",
       "<style scoped>\n",
       "    .dataframe tbody tr th:only-of-type {\n",
       "        vertical-align: middle;\n",
       "    }\n",
       "\n",
       "    .dataframe tbody tr th {\n",
       "        vertical-align: top;\n",
       "    }\n",
       "\n",
       "    .dataframe thead th {\n",
       "        text-align: right;\n",
       "    }\n",
       "</style>\n",
       "<table border=\"1\" class=\"dataframe\">\n",
       "  <thead>\n",
       "    <tr style=\"text-align: right;\">\n",
       "      <th></th>\n",
       "      <th>Asset_ID</th>\n",
       "      <th>Count</th>\n",
       "      <th>Open</th>\n",
       "      <th>High</th>\n",
       "      <th>Low</th>\n",
       "      <th>Close</th>\n",
       "      <th>Volume</th>\n",
       "      <th>VWAP</th>\n",
       "      <th>Target</th>\n",
       "    </tr>\n",
       "    <tr>\n",
       "      <th>timestamp</th>\n",
       "      <th></th>\n",
       "      <th></th>\n",
       "      <th></th>\n",
       "      <th></th>\n",
       "      <th></th>\n",
       "      <th></th>\n",
       "      <th></th>\n",
       "      <th></th>\n",
       "      <th></th>\n",
       "    </tr>\n",
       "  </thead>\n",
       "  <tbody>\n",
       "    <tr>\n",
       "      <th>2018-01-01</th>\n",
       "      <td>1</td>\n",
       "      <td>253.826963</td>\n",
       "      <td>13440.394790</td>\n",
       "      <td>13639.086525</td>\n",
       "      <td>13328.674349</td>\n",
       "      <td>13440.450886</td>\n",
       "      <td>40.182793</td>\n",
       "      <td>13439.695699</td>\n",
       "      <td>-0.000119</td>\n",
       "    </tr>\n",
       "    <tr>\n",
       "      <th>2018-01-02</th>\n",
       "      <td>1</td>\n",
       "      <td>399.002778</td>\n",
       "      <td>13883.789249</td>\n",
       "      <td>14015.528806</td>\n",
       "      <td>13777.035714</td>\n",
       "      <td>13885.451885</td>\n",
       "      <td>73.278080</td>\n",
       "      <td>13884.647667</td>\n",
       "      <td>0.000947</td>\n",
       "    </tr>\n",
       "    <tr>\n",
       "      <th>2018-01-03</th>\n",
       "      <td>1</td>\n",
       "      <td>359.888194</td>\n",
       "      <td>14968.022297</td>\n",
       "      <td>15108.091903</td>\n",
       "      <td>14830.351979</td>\n",
       "      <td>14968.705857</td>\n",
       "      <td>58.219473</td>\n",
       "      <td>14967.995581</td>\n",
       "      <td>-0.000085</td>\n",
       "    </tr>\n",
       "    <tr>\n",
       "      <th>2018-01-04</th>\n",
       "      <td>1</td>\n",
       "      <td>393.017361</td>\n",
       "      <td>14820.063520</td>\n",
       "      <td>14956.625431</td>\n",
       "      <td>14685.640812</td>\n",
       "      <td>14820.753062</td>\n",
       "      <td>70.230390</td>\n",
       "      <td>14820.249468</td>\n",
       "      <td>0.000067</td>\n",
       "    </tr>\n",
       "    <tr>\n",
       "      <th>2018-01-05</th>\n",
       "      <td>1</td>\n",
       "      <td>413.500000</td>\n",
       "      <td>15826.389955</td>\n",
       "      <td>15948.539135</td>\n",
       "      <td>15739.348365</td>\n",
       "      <td>15828.013939</td>\n",
       "      <td>75.490973</td>\n",
       "      <td>15826.890326</td>\n",
       "      <td>0.000286</td>\n",
       "    </tr>\n",
       "  </tbody>\n",
       "</table>\n",
       "</div>"
      ],
      "text/plain": [
       "            Asset_ID       Count          Open          High           Low  \\\n",
       "timestamp                                                                    \n",
       "2018-01-01         1  253.826963  13440.394790  13639.086525  13328.674349   \n",
       "2018-01-02         1  399.002778  13883.789249  14015.528806  13777.035714   \n",
       "2018-01-03         1  359.888194  14968.022297  15108.091903  14830.351979   \n",
       "2018-01-04         1  393.017361  14820.063520  14956.625431  14685.640812   \n",
       "2018-01-05         1  413.500000  15826.389955  15948.539135  15739.348365   \n",
       "\n",
       "                   Close     Volume          VWAP    Target  \n",
       "timestamp                                                    \n",
       "2018-01-01  13440.450886  40.182793  13439.695699 -0.000119  \n",
       "2018-01-02  13885.451885  73.278080  13884.647667  0.000947  \n",
       "2018-01-03  14968.705857  58.219473  14967.995581 -0.000085  \n",
       "2018-01-04  14820.753062  70.230390  14820.249468  0.000067  \n",
       "2018-01-05  15828.013939  75.490973  15826.890326  0.000286  "
      ]
     },
     "execution_count": 15,
     "metadata": {},
     "output_type": "execute_result"
    }
   ],
   "source": [
    "Bitcoin_resampled = df = Bitcoin.set_index('timestamp').resample('D').mean()\n",
    "Bitcoin_resampled.head()"
   ]
  },
  {
   "cell_type": "code",
   "execution_count": 16,
   "metadata": {},
   "outputs": [],
   "source": [
    "import seaborn as sns\n",
    "from datetime import datetime, timedelta\n",
    "\n",
    "from statsmodels.tsa.arima_model import ARIMA\n",
    "from statsmodels.tsa.statespace.sarimax import SARIMAX\n",
    "from statsmodels.graphics.tsaplots import plot_acf, plot_pacf\n",
    "from statsmodels.tsa.stattools import adfuller\n",
    "from statsmodels.tsa.seasonal import seasonal_decompose\n",
    "\n",
    "from scipy import stats\n",
    "import statsmodels.api as sm\n",
    "from itertools import product\n",
    "\n",
    "import warnings\n",
    "warnings.filterwarnings('ignore')"
   ]
  },
  {
   "cell_type": "code",
   "execution_count": 17,
   "metadata": {},
   "outputs": [
    {
     "name": "stdout",
     "output_type": "stream",
     "text": [
      "Decomposing closing price of BTC over time\n"
     ]
    },
    {
     "data": {
      "image/png": "[encoded data removed]",
      "text/plain": [
       "<Figure size 1080x864 with 4 Axes>"
      ]
     },
     "metadata": {
      "needs_background": "light"
     },
     "output_type": "display_data"
    },
    {
     "data": {
      "text/plain": [
       "<Figure size 432x288 with 0 Axes>"
      ]
     },
     "metadata": {},
     "output_type": "display_data"
    }
   ],
   "source": [
    "# Now, for decomposition...\n",
    "print('Decomposing closing price of BTC over time')\n",
    "decomposed_btc_close = sm.tsa.seasonal_decompose(Bitcoin_resampled[\"Close\"], model = 'additive',period=360) # The frequncy is annual\n",
    "figure = decomposed_btc_close.plot()\n",
    "plt.figure()\n",
    "figure.set_size_inches(15, 12)\n",
    "plt.show()"
   ]
  },
  {
   "cell_type": "code",
   "execution_count": 18,
   "metadata": {},
   "outputs": [
    {
     "data": {
      "text/plain": [
       "<statsmodels.tsa.seasonal.DecomposeResult at 0x2004272ca00>"
      ]
     },
     "execution_count": 18,
     "metadata": {},
     "output_type": "execute_result"
    }
   ],
   "source": [
    "decomposed_btc_close"
   ]
  },
  {
   "cell_type": "code",
   "execution_count": 19,
   "metadata": {},
   "outputs": [],
   "source": [
    "timestamp_close_df = pd.DataFrame(Bitcoin_resampled['Close'],Bitcoin_resampled.index)"
   ]
  },
  {
   "cell_type": "code",
   "execution_count": 20,
   "metadata": {},
   "outputs": [
    {
     "data": {
      "text/html": [
       "<div>\n",
       "<style scoped>\n",
       "    .dataframe tbody tr th:only-of-type {\n",
       "        vertical-align: middle;\n",
       "    }\n",
       "\n",
       "    .dataframe tbody tr th {\n",
       "        vertical-align: top;\n",
       "    }\n",
       "\n",
       "    .dataframe thead th {\n",
       "        text-align: right;\n",
       "    }\n",
       "</style>\n",
       "<table border=\"1\" class=\"dataframe\">\n",
       "  <thead>\n",
       "    <tr style=\"text-align: right;\">\n",
       "      <th></th>\n",
       "      <th>Close</th>\n",
       "    </tr>\n",
       "    <tr>\n",
       "      <th>timestamp</th>\n",
       "      <th></th>\n",
       "    </tr>\n",
       "  </thead>\n",
       "  <tbody>\n",
       "    <tr>\n",
       "      <th>2018-01-01</th>\n",
       "      <td>13440.450886</td>\n",
       "    </tr>\n",
       "    <tr>\n",
       "      <th>2018-01-02</th>\n",
       "      <td>13885.451885</td>\n",
       "    </tr>\n",
       "    <tr>\n",
       "      <th>2018-01-03</th>\n",
       "      <td>14968.705857</td>\n",
       "    </tr>\n",
       "    <tr>\n",
       "      <th>2018-01-04</th>\n",
       "      <td>14820.753062</td>\n",
       "    </tr>\n",
       "    <tr>\n",
       "      <th>2018-01-05</th>\n",
       "      <td>15828.013939</td>\n",
       "    </tr>\n",
       "    <tr>\n",
       "      <th>...</th>\n",
       "      <td>...</td>\n",
       "    </tr>\n",
       "    <tr>\n",
       "      <th>2021-09-17</th>\n",
       "      <td>47576.980546</td>\n",
       "    </tr>\n",
       "    <tr>\n",
       "      <th>2021-09-18</th>\n",
       "      <td>48233.558703</td>\n",
       "    </tr>\n",
       "    <tr>\n",
       "      <th>2021-09-19</th>\n",
       "      <td>47726.296578</td>\n",
       "    </tr>\n",
       "    <tr>\n",
       "      <th>2021-09-20</th>\n",
       "      <td>44626.696949</td>\n",
       "    </tr>\n",
       "    <tr>\n",
       "      <th>2021-09-21</th>\n",
       "      <td>43002.505000</td>\n",
       "    </tr>\n",
       "  </tbody>\n",
       "</table>\n",
       "<p>1360 rows × 1 columns</p>\n",
       "</div>"
      ],
      "text/plain": [
       "                   Close\n",
       "timestamp               \n",
       "2018-01-01  13440.450886\n",
       "2018-01-02  13885.451885\n",
       "2018-01-03  14968.705857\n",
       "2018-01-04  14820.753062\n",
       "2018-01-05  15828.013939\n",
       "...                  ...\n",
       "2021-09-17  47576.980546\n",
       "2021-09-18  48233.558703\n",
       "2021-09-19  47726.296578\n",
       "2021-09-20  44626.696949\n",
       "2021-09-21  43002.505000\n",
       "\n",
       "[1360 rows x 1 columns]"
      ]
     },
     "execution_count": 20,
     "metadata": {},
     "output_type": "execute_result"
    }
   ],
   "source": [
    "timestamp_close_df"
   ]
  },
  {
   "cell_type": "code",
   "execution_count": 21,
   "metadata": {},
   "outputs": [],
   "source": [
    "close_df_train = timestamp_close_df.iloc[:(len(timestamp_close_df)-20)]\n",
    "close_df_test = timestamp_close_df.iloc[(len(timestamp_close_df)-20):]"
   ]
  },
  {
   "cell_type": "code",
   "execution_count": 22,
   "metadata": {},
   "outputs": [],
   "source": [
    "\n",
    "from scipy.stats import boxcox\n",
    "\n",
    "close_df_train.Close, lmbda = boxcox(close_df_train.Close)"
   ]
  },
  {
   "cell_type": "code",
   "execution_count": 23,
   "metadata": {},
   "outputs": [
    {
     "data": {
      "text/html": [
       "<div>\n",
       "<style scoped>\n",
       "    .dataframe tbody tr th:only-of-type {\n",
       "        vertical-align: middle;\n",
       "    }\n",
       "\n",
       "    .dataframe tbody tr th {\n",
       "        vertical-align: top;\n",
       "    }\n",
       "\n",
       "    .dataframe thead th {\n",
       "        text-align: right;\n",
       "    }\n",
       "</style>\n",
       "<table border=\"1\" class=\"dataframe\">\n",
       "  <thead>\n",
       "    <tr style=\"text-align: right;\">\n",
       "      <th></th>\n",
       "      <th>Close</th>\n",
       "    </tr>\n",
       "    <tr>\n",
       "      <th>timestamp</th>\n",
       "      <th></th>\n",
       "    </tr>\n",
       "  </thead>\n",
       "  <tbody>\n",
       "    <tr>\n",
       "      <th>2018-01-01</th>\n",
       "      <td>1.884076</td>\n",
       "    </tr>\n",
       "    <tr>\n",
       "      <th>2018-01-02</th>\n",
       "      <td>1.884291</td>\n",
       "    </tr>\n",
       "    <tr>\n",
       "      <th>2018-01-03</th>\n",
       "      <td>1.884773</td>\n",
       "    </tr>\n",
       "    <tr>\n",
       "      <th>2018-01-04</th>\n",
       "      <td>1.884711</td>\n",
       "    </tr>\n",
       "    <tr>\n",
       "      <th>2018-01-05</th>\n",
       "      <td>1.885120</td>\n",
       "    </tr>\n",
       "    <tr>\n",
       "      <th>...</th>\n",
       "      <td>...</td>\n",
       "    </tr>\n",
       "    <tr>\n",
       "      <th>2021-08-28</th>\n",
       "      <td>1.890312</td>\n",
       "    </tr>\n",
       "    <tr>\n",
       "      <th>2021-08-29</th>\n",
       "      <td>1.890296</td>\n",
       "    </tr>\n",
       "    <tr>\n",
       "      <th>2021-08-30</th>\n",
       "      <td>1.890256</td>\n",
       "    </tr>\n",
       "    <tr>\n",
       "      <th>2021-08-31</th>\n",
       "      <td>1.890200</td>\n",
       "    </tr>\n",
       "    <tr>\n",
       "      <th>2021-09-01</th>\n",
       "      <td>1.890227</td>\n",
       "    </tr>\n",
       "  </tbody>\n",
       "</table>\n",
       "<p>1340 rows × 1 columns</p>\n",
       "</div>"
      ],
      "text/plain": [
       "               Close\n",
       "timestamp           \n",
       "2018-01-01  1.884076\n",
       "2018-01-02  1.884291\n",
       "2018-01-03  1.884773\n",
       "2018-01-04  1.884711\n",
       "2018-01-05  1.885120\n",
       "...              ...\n",
       "2021-08-28  1.890312\n",
       "2021-08-29  1.890296\n",
       "2021-08-30  1.890256\n",
       "2021-08-31  1.890200\n",
       "2021-09-01  1.890227\n",
       "\n",
       "[1340 rows x 1 columns]"
      ]
     },
     "execution_count": 23,
     "metadata": {},
     "output_type": "execute_result"
    }
   ],
   "source": [
    "close_df_train"
   ]
  },
  {
   "cell_type": "code",
   "execution_count": 24,
   "metadata": {},
   "outputs": [
    {
     "data": {
      "text/plain": [
       "-0.5272299537692212"
      ]
     },
     "execution_count": 24,
     "metadata": {},
     "output_type": "execute_result"
    }
   ],
   "source": [
    "lmbda"
   ]
  },
  {
   "cell_type": "code",
   "execution_count": 25,
   "metadata": {},
   "outputs": [
    {
     "data": {
      "image/png": "[encoded data removed]",
      "text/plain": [
       "<Figure size 864x576 with 2 Axes>"
      ]
     },
     "metadata": {
      "needs_background": "light"
     },
     "output_type": "display_data"
    }
   ],
   "source": [
    "fig = plt.figure(figsize=(12,8))\n",
    "ax1 = fig.add_subplot(211)\n",
    "fig = sm.graphics.tsa.plot_acf(close_df_train,lags=40,ax=ax1)\n",
    "ax2 = fig.add_subplot(212)\n",
    "fig = sm.graphics.tsa.plot_pacf(close_df_train,lags=40,ax=ax2)"
   ]
  },
  {
   "cell_type": "code",
   "execution_count": 26,
   "metadata": {},
   "outputs": [
    {
     "name": "stdout",
     "output_type": "stream",
     "text": [
      " ADF Statistic: -0.6870819536799927\n",
      " p-value: 0.850067288482662\n"
     ]
    }
   ],
   "source": [
    "result = adfuller(close_df_train.Close.dropna())\n",
    "\n",
    "print(f\" ADF Statistic: {result[0]}\")\n",
    "print(f\" p-value: {result[1]}\")"
   ]
  },
  {
   "cell_type": "code",
   "execution_count": 27,
   "metadata": {},
   "outputs": [
    {
     "data": {
      "text/plain": [
       "timestamp\n",
       "2018-01-02    0.000215\n",
       "2018-01-03    0.000482\n",
       "2018-01-04   -0.000063\n",
       "2018-01-05    0.000409\n",
       "2018-01-06    0.000311\n",
       "                ...   \n",
       "2021-08-28    0.000081\n",
       "2021-08-29   -0.000016\n",
       "2021-08-30   -0.000040\n",
       "2021-08-31   -0.000055\n",
       "2021-09-01    0.000027\n",
       "Freq: D, Name: Close, Length: 1339, dtype: float64"
      ]
     },
     "execution_count": 27,
     "metadata": {},
     "output_type": "execute_result"
    }
   ],
   "source": [
    "difference1 = close_df_train.Close.diff().dropna()\n",
    "difference1"
   ]
  },
  {
   "cell_type": "code",
   "execution_count": 28,
   "metadata": {},
   "outputs": [
    {
     "name": "stdout",
     "output_type": "stream",
     "text": [
      "Decomposing closing price of BTC over time\n"
     ]
    },
    {
     "data": {
      "image/png": "[encoded data removed]",
      "text/plain": [
       "<Figure size 1080x864 with 4 Axes>"
      ]
     },
     "metadata": {
      "needs_background": "light"
     },
     "output_type": "display_data"
    },
    {
     "data": {
      "text/plain": [
       "<Figure size 432x288 with 0 Axes>"
      ]
     },
     "metadata": {},
     "output_type": "display_data"
    }
   ],
   "source": [
    "# Now, for decomposition...\n",
    "print('Decomposing closing price of BTC over time')\n",
    "decomposed_btc_close = sm.tsa.seasonal_decompose(close_df_train[\"Close\"], model = 'additive',period=360) # The frequncy is annual\n",
    "figure = decomposed_btc_close.plot()\n",
    "plt.figure()\n",
    "figure.set_size_inches(15, 12)\n",
    "plt.show()"
   ]
  },
  {
   "cell_type": "code",
   "execution_count": 29,
   "metadata": {},
   "outputs": [
    {
     "data": {
      "image/png": "[encoded data removed]",
      "text/plain": [
       "<Figure size 864x576 with 2 Axes>"
      ]
     },
     "metadata": {
      "needs_background": "light"
     },
     "output_type": "display_data"
    }
   ],
   "source": [
    "difference1 = close_df_train.Close.diff().dropna()\n",
    "\n",
    "fig = plt.figure(figsize=(12,8))\n",
    "ax1 = fig.add_subplot(211)\n",
    "fig = sm.graphics.tsa.plot_acf(difference1,lags=40,ax=ax1)\n",
    "ax2 = fig.add_subplot(212)\n",
    "fig = sm.graphics.tsa.plot_pacf(difference1,lags=40,ax=ax2)"
   ]
  },
  {
   "cell_type": "code",
   "execution_count": 30,
   "metadata": {},
   "outputs": [
    {
     "data": {
      "image/png": "[encoded data removed]",
      "text/plain": [
       "<Figure size 864x576 with 2 Axes>"
      ]
     },
     "metadata": {
      "needs_background": "light"
     },
     "output_type": "display_data"
    }
   ],
   "source": [
    "difference2 = close_df_train.Close.diff().diff().dropna()\n",
    "\n",
    "fig = plt.figure(figsize=(12,8))\n",
    "ax1 = fig.add_subplot(211)\n",
    "fig = sm.graphics.tsa.plot_acf(difference2,lags=40,ax=ax1)\n",
    "ax2 = fig.add_subplot(212)\n",
    "fig = sm.graphics.tsa.plot_pacf(difference2,lags=40,ax=ax2)"
   ]
  },
  {
   "cell_type": "code",
   "execution_count": 31,
   "metadata": {},
   "outputs": [
    {
     "data": {
      "image/png": "[encoded data removed]",
      "text/plain": [
       "<Figure size 432x288 with 1 Axes>"
      ]
     },
     "metadata": {
      "needs_background": "light"
     },
     "output_type": "display_data"
    }
   ],
   "source": [
    "plt.plot(close_df_train['Close'][:], label='Original Series')\n",
    "plt.plot(close_df_train['Close'].diff(12), label='Seasonal Differencing', color='green')\n",
    "#plt.set_title('Seasonal Differencing')\n",
    "plt.legend(loc='upper left', fontsize=10)\n",
    "plt.show()"
   ]
  },
  {
   "cell_type": "code",
   "execution_count": 32,
   "metadata": {},
   "outputs": [
    {
     "name": "stdout",
     "output_type": "stream",
     "text": [
      "[[0.6688511 ]\n",
      " [0.67894273]\n",
      " [0.70156603]\n",
      " ...\n",
      " [0.95884871]\n",
      " [0.95625064]\n",
      " [0.95752532]]\n"
     ]
    }
   ],
   "source": [
    "from sklearn.preprocessing import MinMaxScaler\n",
    "\n",
    "Close_vals = close_df_train.Close.to_numpy()\n",
    "Close_vals = Close_vals.reshape((len(Close_vals), 1))\n",
    "# define min max scaler\n",
    "scaler = MinMaxScaler()\n",
    "# transform data\n",
    "scaler = scaler.fit(Close_vals)\n",
    "scaled_Close_vals = scaler.transform(Close_vals)\n",
    "\n",
    "print(scaled_Close_vals)"
   ]
  },
  {
   "cell_type": "code",
   "execution_count": 33,
   "metadata": {},
   "outputs": [
    {
     "name": "stdout",
     "output_type": "stream",
     "text": [
      "Performing stepwise search to minimize aic\n",
      " ARIMA(0,1,0)(0,1,1)[12]             : AIC=-17778.775, Time=1.35 sec\n",
      " ARIMA(0,1,0)(0,1,0)[12]             : AIC=-17123.856, Time=0.19 sec\n",
      " ARIMA(1,1,0)(1,1,0)[12]             : AIC=-17527.457, Time=2.09 sec\n",
      " ARIMA(0,1,1)(0,1,1)[12]             : AIC=-17849.452, Time=3.16 sec\n",
      " ARIMA(0,1,1)(0,1,0)[12]             : AIC=nan, Time=1.17 sec\n",
      " ARIMA(0,1,1)(1,1,1)[12]             : AIC=-17821.354, Time=2.42 sec\n",
      " ARIMA(0,1,1)(0,1,2)[12]             : AIC=inf, Time=4.50 sec\n",
      " ARIMA(0,1,1)(1,1,0)[12]             : AIC=-17531.210, Time=2.06 sec\n",
      " ARIMA(0,1,1)(1,1,2)[12]             : AIC=-17963.551, Time=2.97 sec\n",
      " ARIMA(0,1,1)(2,1,2)[12]             : AIC=-17955.988, Time=4.51 sec\n",
      " ARIMA(0,1,1)(2,1,1)[12]             : AIC=-17778.241, Time=3.77 sec\n",
      " ARIMA(0,1,0)(1,1,2)[12]             : AIC=-17894.656, Time=1.82 sec\n",
      " ARIMA(1,1,1)(1,1,2)[12]             : AIC=-17963.099, Time=5.56 sec\n",
      " ARIMA(0,1,2)(1,1,2)[12]             : AIC=-17960.618, Time=3.30 sec\n",
      " ARIMA(1,1,0)(1,1,2)[12]             : AIC=-17960.557, Time=7.21 sec\n",
      " ARIMA(1,1,2)(1,1,2)[12]             : AIC=-17957.292, Time=6.39 sec\n",
      " ARIMA(0,1,1)(1,1,2)[12] intercept   : AIC=-17965.292, Time=13.51 sec\n",
      " ARIMA(0,1,1)(0,1,2)[12] intercept   : AIC=inf, Time=9.63 sec\n",
      " ARIMA(0,1,1)(1,1,1)[12] intercept   : AIC=-17821.175, Time=13.01 sec\n",
      " ARIMA(0,1,1)(2,1,2)[12] intercept   : AIC=-17958.711, Time=12.18 sec\n",
      " ARIMA(0,1,1)(0,1,1)[12] intercept   : AIC=-17848.218, Time=15.49 sec\n",
      " ARIMA(0,1,1)(2,1,1)[12] intercept   : AIC=-17776.592, Time=23.17 sec\n",
      " ARIMA(0,1,0)(1,1,2)[12] intercept   : AIC=-17890.547, Time=11.40 sec\n",
      " ARIMA(1,1,1)(1,1,2)[12] intercept   : AIC=-17962.721, Time=12.07 sec\n",
      " ARIMA(0,1,2)(1,1,2)[12] intercept   : AIC=-17966.143, Time=17.40 sec\n",
      " ARIMA(0,1,2)(0,1,2)[12] intercept   : AIC=inf, Time=8.30 sec\n",
      " ARIMA(0,1,2)(1,1,1)[12] intercept   : AIC=-17817.538, Time=12.40 sec\n",
      " ARIMA(0,1,2)(2,1,2)[12] intercept   : AIC=-17953.401, Time=26.50 sec\n",
      " ARIMA(0,1,2)(0,1,1)[12] intercept   : AIC=-17844.921, Time=14.00 sec\n",
      " ARIMA(0,1,2)(2,1,1)[12] intercept   : AIC=-17772.888, Time=24.48 sec\n",
      " ARIMA(1,1,2)(1,1,2)[12] intercept   : AIC=-17953.956, Time=24.15 sec\n",
      " ARIMA(0,1,3)(1,1,2)[12] intercept   : AIC=-17960.880, Time=13.67 sec\n",
      " ARIMA(1,1,3)(1,1,2)[12] intercept   : AIC=-17783.445, Time=22.05 sec\n",
      "\n",
      "Best model:  ARIMA(0,1,2)(1,1,2)[12] intercept\n",
      "Total fit time: 325.912 seconds\n"
     ]
    }
   ],
   "source": [
    "from pmdarima import auto_arima\n",
    "stepwise_model = auto_arima(Close_vals, start_p=0, start_q=0,\n",
    "                           max_p=6, max_q=6, m=12,\n",
    "                           start_P=0, seasonal=True,\n",
    "                           d=1, D=1, trace=True,\n",
    "                           error_action='ignore',  \n",
    "                           suppress_warnings=True, \n",
    "                           stepwise=True)"
   ]
  },
  {
   "cell_type": "code",
   "execution_count": 34,
   "metadata": {},
   "outputs": [
    {
     "data": {
      "text/html": [
       "<table class=\"simpletable\">\n",
       "<caption>SARIMAX Results</caption>\n",
       "<tr>\n",
       "  <th>Dep. Variable:</th>                  <td>y</td>               <th>  No. Observations:  </th>    <td>1340</td>   \n",
       "</tr>\n",
       "<tr>\n",
       "  <th>Model:</th>           <td>SARIMAX(0, 1, 2)x(1, 1, 2, 12)</td> <th>  Log Likelihood     </th>  <td>8990.071</td> \n",
       "</tr>\n",
       "<tr>\n",
       "  <th>Date:</th>                   <td>Mon, 31 Jan 2022</td>        <th>  AIC                </th> <td>-17966.143</td>\n",
       "</tr>\n",
       "<tr>\n",
       "  <th>Time:</th>                       <td>14:46:11</td>            <th>  BIC                </th> <td>-17929.808</td>\n",
       "</tr>\n",
       "<tr>\n",
       "  <th>Sample:</th>                         <td>0</td>               <th>  HQIC               </th> <td>-17952.524</td>\n",
       "</tr>\n",
       "<tr>\n",
       "  <th></th>                             <td> - 1340</td>            <th>                     </th>      <td> </td>    \n",
       "</tr>\n",
       "<tr>\n",
       "  <th>Covariance Type:</th>               <td>opg</td>              <th>                     </th>      <td> </td>    \n",
       "</tr>\n",
       "</table>\n",
       "<table class=\"simpletable\">\n",
       "<tr>\n",
       "      <td></td>         <th>coef</th>     <th>std err</th>      <th>z</th>      <th>P>|z|</th>  <th>[0.025</th>    <th>0.975]</th>  \n",
       "</tr>\n",
       "<tr>\n",
       "  <th>intercept</th> <td> 3.444e-07</td> <td> 2.45e-06</td> <td>    0.140</td> <td> 0.888</td> <td>-4.47e-06</td> <td> 5.16e-06</td>\n",
       "</tr>\n",
       "<tr>\n",
       "  <th>ma.L1</th>     <td>    0.2594</td> <td>    0.016</td> <td>   16.383</td> <td> 0.000</td> <td>    0.228</td> <td>    0.290</td>\n",
       "</tr>\n",
       "<tr>\n",
       "  <th>ma.L2</th>     <td>   -0.0447</td> <td>    0.018</td> <td>   -2.538</td> <td> 0.011</td> <td>   -0.079</td> <td>   -0.010</td>\n",
       "</tr>\n",
       "<tr>\n",
       "  <th>ar.S.L12</th>  <td>   -0.5026</td> <td>    0.011</td> <td>  -44.005</td> <td> 0.000</td> <td>   -0.525</td> <td>   -0.480</td>\n",
       "</tr>\n",
       "<tr>\n",
       "  <th>ma.S.L12</th>  <td>   -0.3031</td> <td>    0.014</td> <td>  -22.165</td> <td> 0.000</td> <td>   -0.330</td> <td>   -0.276</td>\n",
       "</tr>\n",
       "<tr>\n",
       "  <th>ma.S.L24</th>  <td>   -0.4667</td> <td>    0.018</td> <td>  -26.479</td> <td> 0.000</td> <td>   -0.501</td> <td>   -0.432</td>\n",
       "</tr>\n",
       "<tr>\n",
       "  <th>sigma2</th>    <td> 7.508e-08</td> <td> 1.56e-09</td> <td>   48.170</td> <td> 0.000</td> <td>  7.2e-08</td> <td> 7.81e-08</td>\n",
       "</tr>\n",
       "</table>\n",
       "<table class=\"simpletable\">\n",
       "<tr>\n",
       "  <th>Ljung-Box (L1) (Q):</th>     <td>0.50</td> <th>  Jarque-Bera (JB):  </th> <td>2678.99</td>\n",
       "</tr>\n",
       "<tr>\n",
       "  <th>Prob(Q):</th>                <td>0.48</td> <th>  Prob(JB):          </th>  <td>0.00</td>  \n",
       "</tr>\n",
       "<tr>\n",
       "  <th>Heteroskedasticity (H):</th> <td>0.18</td> <th>  Skew:              </th>  <td>-0.19</td> \n",
       "</tr>\n",
       "<tr>\n",
       "  <th>Prob(H) (two-sided):</th>    <td>0.00</td> <th>  Kurtosis:          </th>  <td>9.95</td>  \n",
       "</tr>\n",
       "</table><br/><br/>Warnings:<br/>[1] Covariance matrix calculated using the outer product of gradients (complex-step).<br/>[2] Covariance matrix is singular or near-singular, with condition number 4.09e+16. Standard errors may be unstable."
      ],
      "text/plain": [
       "<class 'statsmodels.iolib.summary.Summary'>\n",
       "\"\"\"\n",
       "                                     SARIMAX Results                                      \n",
       "==========================================================================================\n",
       "Dep. Variable:                                  y   No. Observations:                 1340\n",
       "Model:             SARIMAX(0, 1, 2)x(1, 1, 2, 12)   Log Likelihood                8990.071\n",
       "Date:                            Mon, 31 Jan 2022   AIC                         -17966.143\n",
       "Time:                                    14:46:11   BIC                         -17929.808\n",
       "Sample:                                         0   HQIC                        -17952.524\n",
       "                                           - 1340                                         \n",
       "Covariance Type:                              opg                                         \n",
       "==============================================================================\n",
       "                 coef    std err          z      P>|z|      [0.025      0.975]\n",
       "------------------------------------------------------------------------------\n",
       "intercept   3.444e-07   2.45e-06      0.140      0.888   -4.47e-06    5.16e-06\n",
       "ma.L1          0.2594      0.016     16.383      0.000       0.228       0.290\n",
       "ma.L2         -0.0447      0.018     -2.538      0.011      -0.079      -0.010\n",
       "ar.S.L12      -0.5026      0.011    -44.005      0.000      -0.525      -0.480\n",
       "ma.S.L12      -0.3031      0.014    -22.165      0.000      -0.330      -0.276\n",
       "ma.S.L24      -0.4667      0.018    -26.479      0.000      -0.501      -0.432\n",
       "sigma2      7.508e-08   1.56e-09     48.170      0.000     7.2e-08    7.81e-08\n",
       "===================================================================================\n",
       "Ljung-Box (L1) (Q):                   0.50   Jarque-Bera (JB):              2678.99\n",
       "Prob(Q):                              0.48   Prob(JB):                         0.00\n",
       "Heteroskedasticity (H):               0.18   Skew:                            -0.19\n",
       "Prob(H) (two-sided):                  0.00   Kurtosis:                         9.95\n",
       "===================================================================================\n",
       "\n",
       "Warnings:\n",
       "[1] Covariance matrix calculated using the outer product of gradients (complex-step).\n",
       "[2] Covariance matrix is singular or near-singular, with condition number 4.09e+16. Standard errors may be unstable.\n",
       "\"\"\""
      ]
     },
     "execution_count": 34,
     "metadata": {},
     "output_type": "execute_result"
    }
   ],
   "source": [
    "stepwise_model.summary()"
   ]
  },
  {
   "cell_type": "code",
   "execution_count": 35,
   "metadata": {},
   "outputs": [
    {
     "data": {
      "image/png": "[encoded data removed]",
      "text/plain": [
       "<Figure size 720x576 with 4 Axes>"
      ]
     },
     "metadata": {
      "needs_background": "light"
     },
     "output_type": "display_data"
    }
   ],
   "source": [
    "stepwise_model.plot_diagnostics(figsize=(10,8))\n",
    "plt.show()"
   ]
  },
  {
   "cell_type": "code",
   "execution_count": 36,
   "metadata": {},
   "outputs": [],
   "source": [
    "sarimax_model=sm.tsa.statespace.SARIMAX(close_df_train,order=(0, 1, 2),seasonal_order=(1,1,2,12))\n",
    "sarimax_results=sarimax_model.fit()"
   ]
  },
  {
   "cell_type": "code",
   "execution_count": 37,
   "metadata": {},
   "outputs": [
    {
     "data": {
      "text/html": [
       "<table class=\"simpletable\">\n",
       "<caption>SARIMAX Results</caption>\n",
       "<tr>\n",
       "  <th>Dep. Variable:</th>                <td>Close</td>             <th>  No. Observations:  </th>    <td>1340</td>   \n",
       "</tr>\n",
       "<tr>\n",
       "  <th>Model:</th>           <td>SARIMAX(0, 1, 2)x(1, 1, 2, 12)</td> <th>  Log Likelihood     </th>  <td>8986.309</td> \n",
       "</tr>\n",
       "<tr>\n",
       "  <th>Date:</th>                   <td>Mon, 31 Jan 2022</td>        <th>  AIC                </th> <td>-17960.618</td>\n",
       "</tr>\n",
       "<tr>\n",
       "  <th>Time:</th>                       <td>14:46:16</td>            <th>  BIC                </th> <td>-17929.474</td>\n",
       "</tr>\n",
       "<tr>\n",
       "  <th>Sample:</th>                    <td>01-01-2018</td>           <th>  HQIC               </th> <td>-17948.945</td>\n",
       "</tr>\n",
       "<tr>\n",
       "  <th></th>                          <td>- 09-01-2021</td>          <th>                     </th>      <td> </td>    \n",
       "</tr>\n",
       "<tr>\n",
       "  <th>Covariance Type:</th>               <td>opg</td>              <th>                     </th>      <td> </td>    \n",
       "</tr>\n",
       "</table>\n",
       "<table class=\"simpletable\">\n",
       "<tr>\n",
       "      <td></td>        <th>coef</th>     <th>std err</th>      <th>z</th>      <th>P>|z|</th>  <th>[0.025</th>    <th>0.975]</th>  \n",
       "</tr>\n",
       "<tr>\n",
       "  <th>ma.L1</th>    <td>    0.2595</td> <td>    0.016</td> <td>   16.681</td> <td> 0.000</td> <td>    0.229</td> <td>    0.290</td>\n",
       "</tr>\n",
       "<tr>\n",
       "  <th>ma.L2</th>    <td>   -0.0447</td> <td>    0.018</td> <td>   -2.553</td> <td> 0.011</td> <td>   -0.079</td> <td>   -0.010</td>\n",
       "</tr>\n",
       "<tr>\n",
       "  <th>ar.S.L12</th> <td>   -0.5026</td> <td>    0.011</td> <td>  -45.437</td> <td> 0.000</td> <td>   -0.524</td> <td>   -0.481</td>\n",
       "</tr>\n",
       "<tr>\n",
       "  <th>ma.S.L12</th> <td>   -0.3031</td> <td>    0.016</td> <td>  -18.829</td> <td> 0.000</td> <td>   -0.335</td> <td>   -0.272</td>\n",
       "</tr>\n",
       "<tr>\n",
       "  <th>ma.S.L24</th> <td>   -0.4667</td> <td>    0.020</td> <td>  -23.008</td> <td> 0.000</td> <td>   -0.506</td> <td>   -0.427</td>\n",
       "</tr>\n",
       "<tr>\n",
       "  <th>sigma2</th>   <td> 7.409e-08</td> <td> 1.66e-09</td> <td>   44.601</td> <td> 0.000</td> <td> 7.08e-08</td> <td> 7.73e-08</td>\n",
       "</tr>\n",
       "</table>\n",
       "<table class=\"simpletable\">\n",
       "<tr>\n",
       "  <th>Ljung-Box (L1) (Q):</th>     <td>0.48</td> <th>  Jarque-Bera (JB):  </th> <td>2644.00</td>\n",
       "</tr>\n",
       "<tr>\n",
       "  <th>Prob(Q):</th>                <td>0.49</td> <th>  Prob(JB):          </th>  <td>0.00</td>  \n",
       "</tr>\n",
       "<tr>\n",
       "  <th>Heteroskedasticity (H):</th> <td>0.18</td> <th>  Skew:              </th>  <td>-0.18</td> \n",
       "</tr>\n",
       "<tr>\n",
       "  <th>Prob(H) (two-sided):</th>    <td>0.00</td> <th>  Kurtosis:          </th>  <td>9.91</td>  \n",
       "</tr>\n",
       "</table><br/><br/>Warnings:<br/>[1] Covariance matrix calculated using the outer product of gradients (complex-step).<br/>[2] Covariance matrix is singular or near-singular, with condition number 1.65e+16. Standard errors may be unstable."
      ],
      "text/plain": [
       "<class 'statsmodels.iolib.summary.Summary'>\n",
       "\"\"\"\n",
       "                                     SARIMAX Results                                      \n",
       "==========================================================================================\n",
       "Dep. Variable:                              Close   No. Observations:                 1340\n",
       "Model:             SARIMAX(0, 1, 2)x(1, 1, 2, 12)   Log Likelihood                8986.309\n",
       "Date:                            Mon, 31 Jan 2022   AIC                         -17960.618\n",
       "Time:                                    14:46:16   BIC                         -17929.474\n",
       "Sample:                                01-01-2018   HQIC                        -17948.945\n",
       "                                     - 09-01-2021                                         \n",
       "Covariance Type:                              opg                                         \n",
       "==============================================================================\n",
       "                 coef    std err          z      P>|z|      [0.025      0.975]\n",
       "------------------------------------------------------------------------------\n",
       "ma.L1          0.2595      0.016     16.681      0.000       0.229       0.290\n",
       "ma.L2         -0.0447      0.018     -2.553      0.011      -0.079      -0.010\n",
       "ar.S.L12      -0.5026      0.011    -45.437      0.000      -0.524      -0.481\n",
       "ma.S.L12      -0.3031      0.016    -18.829      0.000      -0.335      -0.272\n",
       "ma.S.L24      -0.4667      0.020    -23.008      0.000      -0.506      -0.427\n",
       "sigma2      7.409e-08   1.66e-09     44.601      0.000    7.08e-08    7.73e-08\n",
       "===================================================================================\n",
       "Ljung-Box (L1) (Q):                   0.48   Jarque-Bera (JB):              2644.00\n",
       "Prob(Q):                              0.49   Prob(JB):                         0.00\n",
       "Heteroskedasticity (H):               0.18   Skew:                            -0.18\n",
       "Prob(H) (two-sided):                  0.00   Kurtosis:                         9.91\n",
       "===================================================================================\n",
       "\n",
       "Warnings:\n",
       "[1] Covariance matrix calculated using the outer product of gradients (complex-step).\n",
       "[2] Covariance matrix is singular or near-singular, with condition number 1.65e+16. Standard errors may be unstable.\n",
       "\"\"\""
      ]
     },
     "execution_count": 37,
     "metadata": {},
     "output_type": "execute_result"
    }
   ],
   "source": [
    "sarimax_results.summary()"
   ]
  },
  {
   "cell_type": "code",
   "execution_count": 38,
   "metadata": {},
   "outputs": [
    {
     "data": {
      "text/html": [
       "<div>\n",
       "<style scoped>\n",
       "    .dataframe tbody tr th:only-of-type {\n",
       "        vertical-align: middle;\n",
       "    }\n",
       "\n",
       "    .dataframe tbody tr th {\n",
       "        vertical-align: top;\n",
       "    }\n",
       "\n",
       "    .dataframe thead th {\n",
       "        text-align: right;\n",
       "    }\n",
       "</style>\n",
       "<table border=\"1\" class=\"dataframe\">\n",
       "  <thead>\n",
       "    <tr style=\"text-align: right;\">\n",
       "      <th></th>\n",
       "      <th>Close</th>\n",
       "    </tr>\n",
       "    <tr>\n",
       "      <th>timestamp</th>\n",
       "      <th></th>\n",
       "    </tr>\n",
       "  </thead>\n",
       "  <tbody>\n",
       "    <tr>\n",
       "      <th>2021-09-02</th>\n",
       "      <td>49653.303422</td>\n",
       "    </tr>\n",
       "    <tr>\n",
       "      <th>2021-09-03</th>\n",
       "      <td>49898.891940</td>\n",
       "    </tr>\n",
       "    <tr>\n",
       "      <th>2021-09-04</th>\n",
       "      <td>50061.790460</td>\n",
       "    </tr>\n",
       "    <tr>\n",
       "      <th>2021-09-05</th>\n",
       "      <td>50344.644727</td>\n",
       "    </tr>\n",
       "    <tr>\n",
       "      <th>2021-09-06</th>\n",
       "      <td>51774.259696</td>\n",
       "    </tr>\n",
       "    <tr>\n",
       "      <th>2021-09-07</th>\n",
       "      <td>49950.841408</td>\n",
       "    </tr>\n",
       "    <tr>\n",
       "      <th>2021-09-08</th>\n",
       "      <td>46289.992210</td>\n",
       "    </tr>\n",
       "    <tr>\n",
       "      <th>2021-09-09</th>\n",
       "      <td>46416.534557</td>\n",
       "    </tr>\n",
       "    <tr>\n",
       "      <th>2021-09-10</th>\n",
       "      <td>45922.629906</td>\n",
       "    </tr>\n",
       "    <tr>\n",
       "      <th>2021-09-11</th>\n",
       "      <td>45371.393570</td>\n",
       "    </tr>\n",
       "    <tr>\n",
       "      <th>2021-09-12</th>\n",
       "      <td>45633.601782</td>\n",
       "    </tr>\n",
       "    <tr>\n",
       "      <th>2021-09-13</th>\n",
       "      <td>44795.956721</td>\n",
       "    </tr>\n",
       "    <tr>\n",
       "      <th>2021-09-14</th>\n",
       "      <td>46043.479479</td>\n",
       "    </tr>\n",
       "    <tr>\n",
       "      <th>2021-09-15</th>\n",
       "      <td>47577.239459</td>\n",
       "    </tr>\n",
       "    <tr>\n",
       "      <th>2021-09-16</th>\n",
       "      <td>47894.959776</td>\n",
       "    </tr>\n",
       "    <tr>\n",
       "      <th>2021-09-17</th>\n",
       "      <td>47576.980546</td>\n",
       "    </tr>\n",
       "    <tr>\n",
       "      <th>2021-09-18</th>\n",
       "      <td>48233.558703</td>\n",
       "    </tr>\n",
       "    <tr>\n",
       "      <th>2021-09-19</th>\n",
       "      <td>47726.296578</td>\n",
       "    </tr>\n",
       "    <tr>\n",
       "      <th>2021-09-20</th>\n",
       "      <td>44626.696949</td>\n",
       "    </tr>\n",
       "    <tr>\n",
       "      <th>2021-09-21</th>\n",
       "      <td>43002.505000</td>\n",
       "    </tr>\n",
       "  </tbody>\n",
       "</table>\n",
       "</div>"
      ],
      "text/plain": [
       "                   Close\n",
       "timestamp               \n",
       "2021-09-02  49653.303422\n",
       "2021-09-03  49898.891940\n",
       "2021-09-04  50061.790460\n",
       "2021-09-05  50344.644727\n",
       "2021-09-06  51774.259696\n",
       "2021-09-07  49950.841408\n",
       "2021-09-08  46289.992210\n",
       "2021-09-09  46416.534557\n",
       "2021-09-10  45922.629906\n",
       "2021-09-11  45371.393570\n",
       "2021-09-12  45633.601782\n",
       "2021-09-13  44795.956721\n",
       "2021-09-14  46043.479479\n",
       "2021-09-15  47577.239459\n",
       "2021-09-16  47894.959776\n",
       "2021-09-17  47576.980546\n",
       "2021-09-18  48233.558703\n",
       "2021-09-19  47726.296578\n",
       "2021-09-20  44626.696949\n",
       "2021-09-21  43002.505000"
      ]
     },
     "execution_count": 38,
     "metadata": {},
     "output_type": "execute_result"
    }
   ],
   "source": [
    "close_df_test"
   ]
  },
  {
   "cell_type": "code",
   "execution_count": 39,
   "metadata": {},
   "outputs": [
    {
     "name": "stdout",
     "output_type": "stream",
     "text": [
      "2021-09-02    1.890280\n",
      "2021-09-03    1.890286\n",
      "2021-09-04    1.890290\n",
      "2021-09-05    1.890308\n",
      "2021-09-06    1.890279\n",
      "2021-09-07    1.890284\n",
      "2021-09-08    1.890272\n",
      "2021-09-09    1.890310\n",
      "2021-09-10    1.890306\n",
      "2021-09-11    1.890298\n",
      "2021-09-12    1.890320\n",
      "2021-09-13    1.890338\n",
      "2021-09-14    1.890374\n",
      "2021-09-15    1.890386\n",
      "2021-09-16    1.890388\n",
      "2021-09-17    1.890403\n",
      "2021-09-18    1.890377\n",
      "2021-09-19    1.890396\n",
      "2021-09-20    1.890384\n",
      "2021-09-21    1.890420\n",
      "Freq: D, Name: predicted_mean, dtype: float64\n"
     ]
    }
   ],
   "source": [
    "pred = sarimax_results.predict(start = '2021-09-02',end = '2021-09-21')\n",
    "print(pred)"
   ]
  },
  {
   "cell_type": "code",
   "execution_count": 40,
   "metadata": {},
   "outputs": [
    {
     "data": {
      "text/plain": [
       "2021-09-02    47919.633897\n",
       "2021-09-03    48014.891596\n",
       "2021-09-04    48063.848361\n",
       "2021-09-05    48324.010503\n",
       "2021-09-06    47908.331870\n",
       "2021-09-07    47980.584666\n",
       "2021-09-08    47810.120917\n",
       "2021-09-09    48355.489474\n",
       "2021-09-10    48286.326546\n",
       "2021-09-11    48182.060859\n",
       "2021-09-12    48488.245621\n",
       "2021-09-13    48756.589316\n",
       "2021-09-14    49277.129591\n",
       "2021-09-15    49454.233116\n",
       "2021-09-16    49478.513409\n",
       "2021-09-17    49700.595229\n",
       "2021-09-18    49319.656342\n",
       "2021-09-19    49600.946556\n",
       "2021-09-20    49416.577800\n",
       "2021-09-21    49956.040117\n",
       "Freq: D, Name: predicted_mean, dtype: float64"
      ]
     },
     "execution_count": 40,
     "metadata": {},
     "output_type": "execute_result"
    }
   ],
   "source": [
    "from scipy.special import inv_boxcox\n",
    "\n",
    "pred = inv_boxcox(pred, -.52722)\n",
    "pred"
   ]
  },
  {
   "cell_type": "code",
   "execution_count": 45,
   "metadata": {},
   "outputs": [
    {
     "data": {
      "text/html": [
       "<div>\n",
       "<style scoped>\n",
       "    .dataframe tbody tr th:only-of-type {\n",
       "        vertical-align: middle;\n",
       "    }\n",
       "\n",
       "    .dataframe tbody tr th {\n",
       "        vertical-align: top;\n",
       "    }\n",
       "\n",
       "    .dataframe thead th {\n",
       "        text-align: right;\n",
       "    }\n",
       "</style>\n",
       "<table border=\"1\" class=\"dataframe\">\n",
       "  <thead>\n",
       "    <tr style=\"text-align: right;\">\n",
       "      <th></th>\n",
       "      <th>Close</th>\n",
       "      <th>Sarimax Predictions</th>\n",
       "    </tr>\n",
       "    <tr>\n",
       "      <th>timestamp</th>\n",
       "      <th></th>\n",
       "      <th></th>\n",
       "    </tr>\n",
       "  </thead>\n",
       "  <tbody>\n",
       "    <tr>\n",
       "      <th>2021-09-02</th>\n",
       "      <td>49653.303422</td>\n",
       "      <td>47919.633897</td>\n",
       "    </tr>\n",
       "    <tr>\n",
       "      <th>2021-09-03</th>\n",
       "      <td>49898.891940</td>\n",
       "      <td>48014.891596</td>\n",
       "    </tr>\n",
       "    <tr>\n",
       "      <th>2021-09-04</th>\n",
       "      <td>50061.790460</td>\n",
       "      <td>48063.848361</td>\n",
       "    </tr>\n",
       "    <tr>\n",
       "      <th>2021-09-05</th>\n",
       "      <td>50344.644727</td>\n",
       "      <td>48324.010503</td>\n",
       "    </tr>\n",
       "    <tr>\n",
       "      <th>2021-09-06</th>\n",
       "      <td>51774.259696</td>\n",
       "      <td>47908.331870</td>\n",
       "    </tr>\n",
       "    <tr>\n",
       "      <th>2021-09-07</th>\n",
       "      <td>49950.841408</td>\n",
       "      <td>47980.584666</td>\n",
       "    </tr>\n",
       "    <tr>\n",
       "      <th>2021-09-08</th>\n",
       "      <td>46289.992210</td>\n",
       "      <td>47810.120917</td>\n",
       "    </tr>\n",
       "    <tr>\n",
       "      <th>2021-09-09</th>\n",
       "      <td>46416.534557</td>\n",
       "      <td>48355.489474</td>\n",
       "    </tr>\n",
       "    <tr>\n",
       "      <th>2021-09-10</th>\n",
       "      <td>45922.629906</td>\n",
       "      <td>48286.326546</td>\n",
       "    </tr>\n",
       "    <tr>\n",
       "      <th>2021-09-11</th>\n",
       "      <td>45371.393570</td>\n",
       "      <td>48182.060859</td>\n",
       "    </tr>\n",
       "    <tr>\n",
       "      <th>2021-09-12</th>\n",
       "      <td>45633.601782</td>\n",
       "      <td>48488.245621</td>\n",
       "    </tr>\n",
       "    <tr>\n",
       "      <th>2021-09-13</th>\n",
       "      <td>44795.956721</td>\n",
       "      <td>48756.589316</td>\n",
       "    </tr>\n",
       "    <tr>\n",
       "      <th>2021-09-14</th>\n",
       "      <td>46043.479479</td>\n",
       "      <td>49277.129591</td>\n",
       "    </tr>\n",
       "    <tr>\n",
       "      <th>2021-09-15</th>\n",
       "      <td>47577.239459</td>\n",
       "      <td>49454.233116</td>\n",
       "    </tr>\n",
       "    <tr>\n",
       "      <th>2021-09-16</th>\n",
       "      <td>47894.959776</td>\n",
       "      <td>49478.513409</td>\n",
       "    </tr>\n",
       "    <tr>\n",
       "      <th>2021-09-17</th>\n",
       "      <td>47576.980546</td>\n",
       "      <td>49700.595229</td>\n",
       "    </tr>\n",
       "    <tr>\n",
       "      <th>2021-09-18</th>\n",
       "      <td>48233.558703</td>\n",
       "      <td>49319.656342</td>\n",
       "    </tr>\n",
       "    <tr>\n",
       "      <th>2021-09-19</th>\n",
       "      <td>47726.296578</td>\n",
       "      <td>49600.946556</td>\n",
       "    </tr>\n",
       "    <tr>\n",
       "      <th>2021-09-20</th>\n",
       "      <td>44626.696949</td>\n",
       "      <td>49416.577800</td>\n",
       "    </tr>\n",
       "    <tr>\n",
       "      <th>2021-09-21</th>\n",
       "      <td>43002.505000</td>\n",
       "      <td>49956.040117</td>\n",
       "    </tr>\n",
       "  </tbody>\n",
       "</table>\n",
       "</div>"
      ],
      "text/plain": [
       "                   Close  Sarimax Predictions\n",
       "timestamp                                    \n",
       "2021-09-02  49653.303422         47919.633897\n",
       "2021-09-03  49898.891940         48014.891596\n",
       "2021-09-04  50061.790460         48063.848361\n",
       "2021-09-05  50344.644727         48324.010503\n",
       "2021-09-06  51774.259696         47908.331870\n",
       "2021-09-07  49950.841408         47980.584666\n",
       "2021-09-08  46289.992210         47810.120917\n",
       "2021-09-09  46416.534557         48355.489474\n",
       "2021-09-10  45922.629906         48286.326546\n",
       "2021-09-11  45371.393570         48182.060859\n",
       "2021-09-12  45633.601782         48488.245621\n",
       "2021-09-13  44795.956721         48756.589316\n",
       "2021-09-14  46043.479479         49277.129591\n",
       "2021-09-15  47577.239459         49454.233116\n",
       "2021-09-16  47894.959776         49478.513409\n",
       "2021-09-17  47576.980546         49700.595229\n",
       "2021-09-18  48233.558703         49319.656342\n",
       "2021-09-19  47726.296578         49600.946556\n",
       "2021-09-20  44626.696949         49416.577800\n",
       "2021-09-21  43002.505000         49956.040117"
      ]
     },
     "execution_count": 45,
     "metadata": {},
     "output_type": "execute_result"
    }
   ],
   "source": [
    "close_df_test['Sarimax Predictions'] = pred\n",
    "close_df_test"
   ]
  },
  {
   "cell_type": "code",
   "execution_count": 42,
   "metadata": {},
   "outputs": [
    {
     "data": {
      "text/plain": [
       "<AxesSubplot:xlabel='timestamp'>"
      ]
     },
     "execution_count": 42,
     "metadata": {},
     "output_type": "execute_result"
    },
    {
     "data": {
      "image/png": "[encoded data removed]",
      "text/plain": [
       "<Figure size 864x432 with 1 Axes>"
      ]
     },
     "metadata": {
      "needs_background": "light"
     },
     "output_type": "display_data"
    }
   ],
   "source": [
    "close_df_test.plot(figsize = (12,6))"
   ]
  },
  {
   "cell_type": "code",
   "execution_count": 46,
   "metadata": {},
   "outputs": [
    {
     "name": "stdout",
     "output_type": "stream",
     "text": [
      "8691773.67792958\n"
     ]
    }
   ],
   "source": [
    "from sklearn import metrics\n",
    "\n",
    "print(metrics.mean_squared_error(close_df_test.Close,close_df_test['Sarimax Predictions']))"
   ]
  },
  {
   "cell_type": "code",
   "execution_count": 43,
   "metadata": {},
   "outputs": [
    {
     "data": {
      "text/html": [
       "<div>\n",
       "<style scoped>\n",
       "    .dataframe tbody tr th:only-of-type {\n",
       "        vertical-align: middle;\n",
       "    }\n",
       "\n",
       "    .dataframe tbody tr th {\n",
       "        vertical-align: top;\n",
       "    }\n",
       "\n",
       "    .dataframe thead th {\n",
       "        text-align: right;\n",
       "    }\n",
       "</style>\n",
       "<table border=\"1\" class=\"dataframe\">\n",
       "  <thead>\n",
       "    <tr style=\"text-align: right;\">\n",
       "      <th></th>\n",
       "      <th>Close</th>\n",
       "    </tr>\n",
       "    <tr>\n",
       "      <th>timestamp</th>\n",
       "      <th></th>\n",
       "    </tr>\n",
       "  </thead>\n",
       "  <tbody>\n",
       "    <tr>\n",
       "      <th>2021-09-02</th>\n",
       "      <td>49653.303422</td>\n",
       "    </tr>\n",
       "    <tr>\n",
       "      <th>2021-09-03</th>\n",
       "      <td>49898.891940</td>\n",
       "    </tr>\n",
       "    <tr>\n",
       "      <th>2021-09-04</th>\n",
       "      <td>50061.790460</td>\n",
       "    </tr>\n",
       "    <tr>\n",
       "      <th>2021-09-05</th>\n",
       "      <td>50344.644727</td>\n",
       "    </tr>\n",
       "    <tr>\n",
       "      <th>2021-09-06</th>\n",
       "      <td>51774.259696</td>\n",
       "    </tr>\n",
       "    <tr>\n",
       "      <th>2021-09-07</th>\n",
       "      <td>49950.841408</td>\n",
       "    </tr>\n",
       "    <tr>\n",
       "      <th>2021-09-08</th>\n",
       "      <td>46289.992210</td>\n",
       "    </tr>\n",
       "    <tr>\n",
       "      <th>2021-09-09</th>\n",
       "      <td>46416.534557</td>\n",
       "    </tr>\n",
       "    <tr>\n",
       "      <th>2021-09-10</th>\n",
       "      <td>45922.629906</td>\n",
       "    </tr>\n",
       "    <tr>\n",
       "      <th>2021-09-11</th>\n",
       "      <td>45371.393570</td>\n",
       "    </tr>\n",
       "    <tr>\n",
       "      <th>2021-09-12</th>\n",
       "      <td>45633.601782</td>\n",
       "    </tr>\n",
       "    <tr>\n",
       "      <th>2021-09-13</th>\n",
       "      <td>44795.956721</td>\n",
       "    </tr>\n",
       "    <tr>\n",
       "      <th>2021-09-14</th>\n",
       "      <td>46043.479479</td>\n",
       "    </tr>\n",
       "    <tr>\n",
       "      <th>2021-09-15</th>\n",
       "      <td>47577.239459</td>\n",
       "    </tr>\n",
       "    <tr>\n",
       "      <th>2021-09-16</th>\n",
       "      <td>47894.959776</td>\n",
       "    </tr>\n",
       "    <tr>\n",
       "      <th>2021-09-17</th>\n",
       "      <td>47576.980546</td>\n",
       "    </tr>\n",
       "    <tr>\n",
       "      <th>2021-09-18</th>\n",
       "      <td>48233.558703</td>\n",
       "    </tr>\n",
       "    <tr>\n",
       "      <th>2021-09-19</th>\n",
       "      <td>47726.296578</td>\n",
       "    </tr>\n",
       "    <tr>\n",
       "      <th>2021-09-20</th>\n",
       "      <td>44626.696949</td>\n",
       "    </tr>\n",
       "    <tr>\n",
       "      <th>2021-09-21</th>\n",
       "      <td>43002.505000</td>\n",
       "    </tr>\n",
       "  </tbody>\n",
       "</table>\n",
       "</div>"
      ],
      "text/plain": [
       "                   Close\n",
       "timestamp               \n",
       "2021-09-02  49653.303422\n",
       "2021-09-03  49898.891940\n",
       "2021-09-04  50061.790460\n",
       "2021-09-05  50344.644727\n",
       "2021-09-06  51774.259696\n",
       "2021-09-07  49950.841408\n",
       "2021-09-08  46289.992210\n",
       "2021-09-09  46416.534557\n",
       "2021-09-10  45922.629906\n",
       "2021-09-11  45371.393570\n",
       "2021-09-12  45633.601782\n",
       "2021-09-13  44795.956721\n",
       "2021-09-14  46043.479479\n",
       "2021-09-15  47577.239459\n",
       "2021-09-16  47894.959776\n",
       "2021-09-17  47576.980546\n",
       "2021-09-18  48233.558703\n",
       "2021-09-19  47726.296578\n",
       "2021-09-20  44626.696949\n",
       "2021-09-21  43002.505000"
      ]
     },
     "execution_count": 43,
     "metadata": {},
     "output_type": "execute_result"
    }
   ],
   "source": [
    "close_df_test = close_df_test.drop(columns = ['Sarimax Predictions'])\n",
    "close_df_test"
   ]
  },
  {
   "cell_type": "code",
   "execution_count": 44,
   "metadata": {},
   "outputs": [],
   "source": [
    "#LSTM Prediction\n"
   ]
  },
  {
   "cell_type": "code",
   "execution_count": null,
   "metadata": {},
   "outputs": [],
   "source": [
    "close_df_train.Close, lmbda = boxcox(close_df_train.Close)\n",
    "close_df_train, lmbda"
   ]
  },
  {
   "cell_type": "code",
   "execution_count": null,
   "metadata": {},
   "outputs": [],
   "source": [
    "scaler.fit(close_df_train)\n",
    "scaled_train = scaler.transform(close_df_train)\n",
    "scaler_test = scaler.transform(close_df_test)"
   ]
  },
  {
   "cell_type": "code",
   "execution_count": null,
   "metadata": {},
   "outputs": [],
   "source": [
    "from keras.preprocessing.sequence import TimeseriesGenerator\n",
    "\n",
    "n_input = 100\n",
    "n_features = 1\n",
    "generator = TimeseriesGenerator(scaled_train, scaled_train, length = n_input, batch_size = 1)"
   ]
  },
  {
   "cell_type": "code",
   "execution_count": null,
   "metadata": {},
   "outputs": [],
   "source": [
    "# univariate lstm example\n",
    "from numpy import array\n",
    "from keras.models import Sequential\n",
    "from keras.layers import LSTM\n",
    "from keras.layers import Dense"
   ]
  },
  {
   "cell_type": "code",
   "execution_count": null,
   "metadata": {},
   "outputs": [],
   "source": [
    "model = Sequential()\n",
    "model.add(LSTM(100, activation = 'relu', input_shape=(n_input, n_features)))\n",
    "model.add(Dense(1))\n",
    "model.compile(loss='mean_squared_error', optimizer='adam')"
   ]
  },
  {
   "cell_type": "code",
   "execution_count": null,
   "metadata": {},
   "outputs": [],
   "source": [
    "model.summary()"
   ]
  },
  {
   "cell_type": "code",
   "execution_count": null,
   "metadata": {},
   "outputs": [],
   "source": [
    "model.fit(generator, epochs = 10)"
   ]
  },
  {
   "cell_type": "code",
   "execution_count": null,
   "metadata": {},
   "outputs": [],
   "source": [
    "lossPerEpoch = model.history.history['loss']\n",
    "plt.plot(range(len(lossPerEpoch)),lossPerEpoch)"
   ]
  },
  {
   "cell_type": "code",
   "execution_count": null,
   "metadata": {},
   "outputs": [],
   "source": [
    "last_train_batch = scaled_train[-100:]\n",
    "last_train_batch = last_train_batch.reshape((1,n_input,n_features))"
   ]
  },
  {
   "cell_type": "code",
   "execution_count": null,
   "metadata": {},
   "outputs": [],
   "source": [
    "model.predict(last_train_batch)"
   ]
  },
  {
   "cell_type": "code",
   "execution_count": null,
   "metadata": {},
   "outputs": [],
   "source": [
    "test_predictions = []\n",
    "first_eval_batch = scaled_train[-n_input:]\n",
    "current_batch = first_eval_batch.reshape((1, n_input, n_features))\n",
    "\n",
    "for i in range(len(scaler_test)):\n",
    "    current_pred = model.predict(current_batch)[0]\n",
    "    test_predictions.append(current_pred)\n",
    "    current_batch = np.append(current_batch[:,1:,],[[current_pred]], axis = 1)\n",
    "    "
   ]
  },
  {
   "cell_type": "code",
   "execution_count": null,
   "metadata": {},
   "outputs": [],
   "source": [
    "test_predictions"
   ]
  },
  {
   "cell_type": "code",
   "execution_count": null,
   "metadata": {},
   "outputs": [],
   "source": [
    "true_predictions = scaler.inverse_transform(test_predictions)\n",
    "true_predictions"
   ]
  },
  {
   "cell_type": "code",
   "execution_count": null,
   "metadata": {},
   "outputs": [],
   "source": [
    "from scipy.special import inv_boxcox\n",
    "\n",
    "pred = inv_boxcox(true_predictions, -13.3)\n",
    "pred"
   ]
  },
  {
   "cell_type": "code",
   "execution_count": null,
   "metadata": {},
   "outputs": [],
   "source": [
    "close_df_test['LSTM Predictions'] = pred"
   ]
  },
  {
   "cell_type": "code",
   "execution_count": null,
   "metadata": {},
   "outputs": [],
   "source": [
    "close_df_test"
   ]
  },
  {
   "cell_type": "code",
   "execution_count": null,
   "metadata": {},
   "outputs": [],
   "source": [
    "close_df_test.plot(figsize = (12,6))"
   ]
  },
  {
   "cell_type": "code",
   "execution_count": null,
   "metadata": {},
   "outputs": [],
   "source": [
    "Binance_Coin.isna().sum()"
   ]
  },
  {
   "cell_type": "code",
   "execution_count": null,
   "metadata": {},
   "outputs": [],
   "source": [
    "# Initial approximation of parameters\n",
    "qs = range(0, 3)\n",
    "ps = range(0, 3)\n",
    "d=1\n",
    "parameters = product(ps, qs)\n",
    "parameters_list = list(parameters)\n",
    "len(parameters_list)\n",
    "\n",
    "# Model Selection\n",
    "results = []\n",
    "best_aic = float(\"inf\")\n",
    "warnings.filterwarnings('ignore')\n",
    "for param in parameters_list:\n",
    "    try:\n",
    "        model = SARIMAX(Bitcoin.close, order=(param[0], d, param[1])).fit(disp=-1)\n",
    "    except ValueError:\n",
    "        print('bad parameter combination:', param)\n",
    "        continue\n",
    "    aic = model.aic\n",
    "    if aic < best_aic:\n",
    "        best_model = model\n",
    "        best_aic = aic\n",
    "        best_param = param\n",
    "    results.append([param, model.aic])"
   ]
  },
  {
   "cell_type": "code",
   "execution_count": null,
   "metadata": {},
   "outputs": [],
   "source": [
    "plt.plot(Binance_Coin.timestamp, Binance_Coin.Close, linewidth=3)"
   ]
  },
  {
   "cell_type": "code",
   "execution_count": null,
   "metadata": {},
   "outputs": [],
   "source": [
    "plt.plot(Bitcoin_Cash.timestamp, Bitcoin_Cash.Target, linewidth=3)"
   ]
  },
  {
   "cell_type": "code",
   "execution_count": null,
   "metadata": {},
   "outputs": [],
   "source": [
    "plt.plot(Cardano.timestamp, Cardano.Target, linewidth=3)"
   ]
  },
  {
   "cell_type": "code",
   "execution_count": null,
   "metadata": {},
   "outputs": [],
   "source": [
    "# univariate lstm example\n",
    "from numpy import array\n",
    "from keras.models import Sequential\n",
    "from keras.layers import LSTM\n",
    "from keras.layers import Dense"
   ]
  },
  {
   "cell_type": "code",
   "execution_count": null,
   "metadata": {},
   "outputs": [],
   "source": [
    "model = Sequential()\n",
    "model.add(LSTM(4, input_shape=(1, 1)))\n",
    "model.add(Dense(1))\n",
    "model.compile(loss='mean_squared_error', optimizer='adam')\n"
   ]
  },
  {
   "cell_type": "code",
   "execution_count": null,
   "metadata": {},
   "outputs": [],
   "source": [
    "trainX = []\n",
    "trainY = []\n",
    "n_future = 1\n",
    "n"
   ]
  },
  {
   "cell_type": "markdown",
   "metadata": {},
   "source": []
  },
  {
   "cell_type": "code",
   "execution_count": null,
   "metadata": {},
   "outputs": [],
   "source": [
    "history = model.fit"
   ]
  },
  {
   "cell_type": "code",
   "execution_count": null,
   "metadata": {},
   "outputs": [],
   "source": [
    "asset_details = r'C:/Users/secan/Documents/CryptoPriceKaggleCompetition/asset_details.csv'"
   ]
  },
  {
   "cell_type": "code",
   "execution_count": null,
   "metadata": {},
   "outputs": [],
   "source": [
    "data_daily = pd.DataFrame()\n",
    "\n",
    "for asset_id in asset_details.index:\n",
    "    data_single = data[data.Asset_ID == asset_id].copy()\n",
    "\n",
    "    data_single_new = data_single[['timestamp','Count']].resample('D', on='timestamp').sum()\n",
    "    data_single_new['Open'] = data_single[['timestamp','Open']].resample('D', on='timestamp').first()['Open']\n",
    "    data_single_new['High'] = data_single[['timestamp','High']].resample('D', on='timestamp').max()['High']\n",
    "    data_single_new['Low'] = data_single[['timestamp','Low']].resample('D', on='timestamp').min()['Low']\n",
    "    data_single_new['Close'] = data_single[['timestamp','Close']].resample('D', on='timestamp').last()['Close']\n",
    "    data_single_new['Volume'] = data_single[['timestamp','Volume']].resample('D', on='timestamp').sum()['Volume']\n",
    "    data_single_new['Asset_ID'] = asset_id"
   ]
  },
  {
   "cell_type": "code",
   "execution_count": null,
   "metadata": {},
   "outputs": [],
   "source": []
  },
  {
   "cell_type": "code",
   "execution_count": null,
   "metadata": {},
   "outputs": [],
   "source": []
  }
 ],
 "metadata": {
  "kernelspec": {
   "display_name": "Python 3",
   "language": "python",
   "name": "python3"
  },
  "language_info": {
   "codemirror_mode": {
    "name": "ipython",
    "version": 3
   },
   "file_extension": ".py",
   "mimetype": "text/x-python",
   "name": "python",
   "nbconvert_exporter": "python",
   "pygments_lexer": "ipython3",
   "version": "3.8.5"
  }
 },
 "nbformat": 4,
 "nbformat_minor": 4
}
